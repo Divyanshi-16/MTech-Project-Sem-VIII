{
  "nbformat": 4,
  "nbformat_minor": 0,
  "metadata": {
    "colab": {
      "provenance": []
    },
    "kernelspec": {
      "name": "python3",
      "display_name": "Python 3"
    },
    "language_info": {
      "name": "python"
    }
  },
  "cells": [
    {
      "cell_type": "code",
      "source": [
        "import pandas as pd\n",
        "import re\n",
        "import nltk\n",
        "from nltk.translate import AlignedSent, IBMModel1\n",
        "# Load and Preprocess the Data\n",
        "df = pd.read_csv(\"./engspn.csv\")\n",
        "english_sentences = df['english'].tolist()\n",
        "spanish_sentences = df['spanish'].tolist()\n",
        "def clean_sentences(sentences):\n",
        "    cleaned_sentences = []\n",
        "    for sentence in sentences:\n",
        "        sentence = sentence.strip()\n",
        "        sentence = sentence.lower()\n",
        "        sentence = re.sub(r\"[^a-zA-Z0-9]+\", \" \", sentence)\n",
        "        cleaned_sentences.append(sentence.strip())\n",
        "    return cleaned_sentences\n",
        "cleaned_english_sentences = clean_sentences(english_sentences)\n",
        "cleaned_spanish_sentences = clean_sentences(spanish_sentences)\n",
        "# Train the Translation Model\n",
        "def train_translation_model(source_sentences, target_sentences):\n",
        "    aligned_sentences = [AlignedSent(source.split(), target.split()) for source, target in zip(source_sentences, target_sentences)]\n",
        "    ibm_model = IBMModel1(aligned_sentences, 10)\n",
        "    return ibm_model\n",
        "translation_model = train_translation_model(cleaned_english_sentences, cleaned_spanish_sentences)\n",
        "# Translate Input Sentences\n",
        "def translate_input(ibm_model):\n",
        "    while True:\n",
        "        source_text = input(\"Enter the English sentence to translate (or 'q' to quit): \")\n",
        "        if source_text.lower() == 'q':\n",
        "            print(\"Quitting...\")\n",
        "            break\n",
        "        cleaned_text = clean_sentences(source_text.split())\n",
        "        source_words = cleaned_text\n",
        "        translated_words = []\n",
        "        for source_word in source_words:\n",
        "            max_prob = 0.0\n",
        "            translated_word = None\n",
        "            for target_word in ibm_model.translation_table[source_word]:\n",
        "                prob = ibm_model.translation_table[source_word][target_word]\n",
        "                if prob > max_prob:\n",
        "                    max_prob = prob\n",
        "                    translated_word = target_word\n",
        "            if translated_word is not None:\n",
        "                translated_words.append(translated_word)\n",
        "        translated_text = ' '.join(translated_words)\n",
        "        print(\"Translated text:\", translated_text)\n",
        "        print()\n",
        "translate_input(translation_model)"
      ],
      "metadata": {
        "colab": {
          "base_uri": "https://localhost:8080/"
        },
        "id": "N5kE7ck6nu43",
        "outputId": "e01f61bb-c1f2-4d64-c823-a3c45bc93b3b"
      },
      "execution_count": null,
      "outputs": [
        {
          "output_type": "stream",
          "name": "stdout",
          "text": [
            "Enter the English sentence to translate (or 'q' to quit): Hello\n",
            "Translated text: hello\n",
            "\n",
            "Enter the English sentence to translate (or 'q' to quit): My name is Sumedha\n",
            "Translated text: mi nombre es\n",
            "\n",
            "Enter the English sentence to translate (or 'q' to quit): what is your name\n",
            "Translated text: qu es tu nombre\n",
            "\n",
            "Enter the English sentence to translate (or 'q' to quit): i want to go to mountains\n",
            "Translated text: yo quiero a andate a monta\n",
            "\n",
            "Enter the English sentence to translate (or 'q' to quit): i love the Alps\n",
            "Translated text: yo amor el alpes\n",
            "\n",
            "Enter the English sentence to translate (or 'q' to quit): q\n",
            "Quitting...\n"
          ]
        }
      ]
    }
  ]
}