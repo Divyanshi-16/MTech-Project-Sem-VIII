{
  "nbformat": 4,
  "nbformat_minor": 0,
  "metadata": {
    "kernelspec": {
      "language": "python",
      "display_name": "Python 3",
      "name": "python3"
    },
    "language_info": {
      "name": "python",
      "version": "3.7.10",
      "mimetype": "text/x-python",
      "codemirror_mode": {
        "name": "ipython",
        "version": 3
      },
      "pygments_lexer": "ipython3",
      "nbconvert_exporter": "python",
      "file_extension": ".py"
    },
    "colab": {
      "provenance": []
    },
    "accelerator": "GPU",
    "widgets": {
      "application/vnd.jupyter.widget-state+json": {
        "34fd15427c7d4f4189c9ce38924107b5": {
          "model_module": "@jupyter-widgets/controls",
          "model_name": "HBoxModel",
          "model_module_version": "1.5.0",
          "state": {
            "_view_name": "HBoxView",
            "_dom_classes": [],
            "_model_name": "HBoxModel",
            "_view_module": "@jupyter-widgets/controls",
            "_model_module_version": "1.5.0",
            "_view_count": null,
            "_view_module_version": "1.5.0",
            "box_style": "",
            "layout": "IPY_MODEL_04672fbdc8754babbb7bb3bfb7bcfd2e",
            "_model_module": "@jupyter-widgets/controls",
            "children": [
              "IPY_MODEL_53ec358cc4784c25a50e17bd8764fd56",
              "IPY_MODEL_c916612f156b457f828410fdc85c8def",
              "IPY_MODEL_de1e4b0f94f74b4380de2cb4447352f1"
            ]
          }
        },
        "04672fbdc8754babbb7bb3bfb7bcfd2e": {
          "model_module": "@jupyter-widgets/base",
          "model_name": "LayoutModel",
          "model_module_version": "1.2.0",
          "state": {
            "_view_name": "LayoutView",
            "grid_template_rows": null,
            "right": null,
            "justify_content": null,
            "_view_module": "@jupyter-widgets/base",
            "overflow": null,
            "_model_module_version": "1.2.0",
            "_view_count": null,
            "flex_flow": null,
            "width": null,
            "min_width": null,
            "border": null,
            "align_items": null,
            "bottom": null,
            "_model_module": "@jupyter-widgets/base",
            "top": null,
            "grid_column": null,
            "overflow_y": null,
            "overflow_x": null,
            "grid_auto_flow": null,
            "grid_area": null,
            "grid_template_columns": null,
            "flex": null,
            "_model_name": "LayoutModel",
            "justify_items": null,
            "grid_row": null,
            "max_height": null,
            "align_content": null,
            "visibility": null,
            "align_self": null,
            "height": null,
            "min_height": null,
            "padding": null,
            "grid_auto_rows": null,
            "grid_gap": null,
            "max_width": null,
            "order": null,
            "_view_module_version": "1.2.0",
            "grid_template_areas": null,
            "object_position": null,
            "object_fit": null,
            "grid_auto_columns": null,
            "margin": null,
            "display": null,
            "left": null
          }
        },
        "53ec358cc4784c25a50e17bd8764fd56": {
          "model_module": "@jupyter-widgets/controls",
          "model_name": "HTMLModel",
          "model_module_version": "1.5.0",
          "state": {
            "_view_name": "HTMLView",
            "style": "IPY_MODEL_c04bdf05ef684c8fb12ea45833394e77",
            "_dom_classes": [],
            "description": "",
            "_model_name": "HTMLModel",
            "placeholder": "​",
            "_view_module": "@jupyter-widgets/controls",
            "_model_module_version": "1.5.0",
            "value": "Downloading: ",
            "_view_count": null,
            "_view_module_version": "1.5.0",
            "description_tooltip": null,
            "_model_module": "@jupyter-widgets/controls",
            "layout": "IPY_MODEL_ed5983a37cba4faea852cf2e13b355b4"
          }
        },
        "c916612f156b457f828410fdc85c8def": {
          "model_module": "@jupyter-widgets/controls",
          "model_name": "FloatProgressModel",
          "model_module_version": "1.5.0",
          "state": {
            "_view_name": "ProgressView",
            "style": "IPY_MODEL_f8f12dcd6d164513bae3d4d7835cc45e",
            "_dom_classes": [],
            "description": "",
            "_model_name": "FloatProgressModel",
            "bar_style": "success",
            "max": 1405,
            "_view_module": "@jupyter-widgets/controls",
            "_model_module_version": "1.5.0",
            "value": 1405,
            "_view_count": null,
            "_view_module_version": "1.5.0",
            "orientation": "horizontal",
            "min": 0,
            "description_tooltip": null,
            "_model_module": "@jupyter-widgets/controls",
            "layout": "IPY_MODEL_adbad0b85f78492583b2c5b291341030"
          }
        },
        "de1e4b0f94f74b4380de2cb4447352f1": {
          "model_module": "@jupyter-widgets/controls",
          "model_name": "HTMLModel",
          "model_module_version": "1.5.0",
          "state": {
            "_view_name": "HTMLView",
            "style": "IPY_MODEL_a9aa1538562840f2b969340f1cbf8bbb",
            "_dom_classes": [],
            "description": "",
            "_model_name": "HTMLModel",
            "placeholder": "​",
            "_view_module": "@jupyter-widgets/controls",
            "_model_module_version": "1.5.0",
            "value": " 2.81k/? [00:00&lt;00:00, 57.6kB/s]",
            "_view_count": null,
            "_view_module_version": "1.5.0",
            "description_tooltip": null,
            "_model_module": "@jupyter-widgets/controls",
            "layout": "IPY_MODEL_5600aa1b802c46b183417910f0e18cc4"
          }
        },
        "c04bdf05ef684c8fb12ea45833394e77": {
          "model_module": "@jupyter-widgets/controls",
          "model_name": "DescriptionStyleModel",
          "model_module_version": "1.5.0",
          "state": {
            "_view_name": "StyleView",
            "_model_name": "DescriptionStyleModel",
            "description_width": "",
            "_view_module": "@jupyter-widgets/base",
            "_model_module_version": "1.5.0",
            "_view_count": null,
            "_view_module_version": "1.2.0",
            "_model_module": "@jupyter-widgets/controls"
          }
        },
        "ed5983a37cba4faea852cf2e13b355b4": {
          "model_module": "@jupyter-widgets/base",
          "model_name": "LayoutModel",
          "model_module_version": "1.2.0",
          "state": {
            "_view_name": "LayoutView",
            "grid_template_rows": null,
            "right": null,
            "justify_content": null,
            "_view_module": "@jupyter-widgets/base",
            "overflow": null,
            "_model_module_version": "1.2.0",
            "_view_count": null,
            "flex_flow": null,
            "width": null,
            "min_width": null,
            "border": null,
            "align_items": null,
            "bottom": null,
            "_model_module": "@jupyter-widgets/base",
            "top": null,
            "grid_column": null,
            "overflow_y": null,
            "overflow_x": null,
            "grid_auto_flow": null,
            "grid_area": null,
            "grid_template_columns": null,
            "flex": null,
            "_model_name": "LayoutModel",
            "justify_items": null,
            "grid_row": null,
            "max_height": null,
            "align_content": null,
            "visibility": null,
            "align_self": null,
            "height": null,
            "min_height": null,
            "padding": null,
            "grid_auto_rows": null,
            "grid_gap": null,
            "max_width": null,
            "order": null,
            "_view_module_version": "1.2.0",
            "grid_template_areas": null,
            "object_position": null,
            "object_fit": null,
            "grid_auto_columns": null,
            "margin": null,
            "display": null,
            "left": null
          }
        },
        "f8f12dcd6d164513bae3d4d7835cc45e": {
          "model_module": "@jupyter-widgets/controls",
          "model_name": "ProgressStyleModel",
          "model_module_version": "1.5.0",
          "state": {
            "_view_name": "StyleView",
            "_model_name": "ProgressStyleModel",
            "description_width": "",
            "_view_module": "@jupyter-widgets/base",
            "_model_module_version": "1.5.0",
            "_view_count": null,
            "_view_module_version": "1.2.0",
            "bar_color": null,
            "_model_module": "@jupyter-widgets/controls"
          }
        },
        "adbad0b85f78492583b2c5b291341030": {
          "model_module": "@jupyter-widgets/base",
          "model_name": "LayoutModel",
          "model_module_version": "1.2.0",
          "state": {
            "_view_name": "LayoutView",
            "grid_template_rows": null,
            "right": null,
            "justify_content": null,
            "_view_module": "@jupyter-widgets/base",
            "overflow": null,
            "_model_module_version": "1.2.0",
            "_view_count": null,
            "flex_flow": null,
            "width": null,
            "min_width": null,
            "border": null,
            "align_items": null,
            "bottom": null,
            "_model_module": "@jupyter-widgets/base",
            "top": null,
            "grid_column": null,
            "overflow_y": null,
            "overflow_x": null,
            "grid_auto_flow": null,
            "grid_area": null,
            "grid_template_columns": null,
            "flex": null,
            "_model_name": "LayoutModel",
            "justify_items": null,
            "grid_row": null,
            "max_height": null,
            "align_content": null,
            "visibility": null,
            "align_self": null,
            "height": null,
            "min_height": null,
            "padding": null,
            "grid_auto_rows": null,
            "grid_gap": null,
            "max_width": null,
            "order": null,
            "_view_module_version": "1.2.0",
            "grid_template_areas": null,
            "object_position": null,
            "object_fit": null,
            "grid_auto_columns": null,
            "margin": null,
            "display": null,
            "left": null
          }
        },
        "a9aa1538562840f2b969340f1cbf8bbb": {
          "model_module": "@jupyter-widgets/controls",
          "model_name": "DescriptionStyleModel",
          "model_module_version": "1.5.0",
          "state": {
            "_view_name": "StyleView",
            "_model_name": "DescriptionStyleModel",
            "description_width": "",
            "_view_module": "@jupyter-widgets/base",
            "_model_module_version": "1.5.0",
            "_view_count": null,
            "_view_module_version": "1.2.0",
            "_model_module": "@jupyter-widgets/controls"
          }
        },
        "5600aa1b802c46b183417910f0e18cc4": {
          "model_module": "@jupyter-widgets/base",
          "model_name": "LayoutModel",
          "model_module_version": "1.2.0",
          "state": {
            "_view_name": "LayoutView",
            "grid_template_rows": null,
            "right": null,
            "justify_content": null,
            "_view_module": "@jupyter-widgets/base",
            "overflow": null,
            "_model_module_version": "1.2.0",
            "_view_count": null,
            "flex_flow": null,
            "width": null,
            "min_width": null,
            "border": null,
            "align_items": null,
            "bottom": null,
            "_model_module": "@jupyter-widgets/base",
            "top": null,
            "grid_column": null,
            "overflow_y": null,
            "overflow_x": null,
            "grid_auto_flow": null,
            "grid_area": null,
            "grid_template_columns": null,
            "flex": null,
            "_model_name": "LayoutModel",
            "justify_items": null,
            "grid_row": null,
            "max_height": null,
            "align_content": null,
            "visibility": null,
            "align_self": null,
            "height": null,
            "min_height": null,
            "padding": null,
            "grid_auto_rows": null,
            "grid_gap": null,
            "max_width": null,
            "order": null,
            "_view_module_version": "1.2.0",
            "grid_template_areas": null,
            "object_position": null,
            "object_fit": null,
            "grid_auto_columns": null,
            "margin": null,
            "display": null,
            "left": null
          }
        },
        "fd705f2d192c41f8bbbf5c6270e6ffb0": {
          "model_module": "@jupyter-widgets/controls",
          "model_name": "HBoxModel",
          "model_module_version": "1.5.0",
          "state": {
            "_view_name": "HBoxView",
            "_dom_classes": [],
            "_model_name": "HBoxModel",
            "_view_module": "@jupyter-widgets/controls",
            "_model_module_version": "1.5.0",
            "_view_count": null,
            "_view_module_version": "1.5.0",
            "box_style": "",
            "layout": "IPY_MODEL_d8499a1a46144034b56489025aaee86f",
            "_model_module": "@jupyter-widgets/controls",
            "children": [
              "IPY_MODEL_b982f93475414c0c8a92601717138dc4",
              "IPY_MODEL_98b513fb020744bfbbe0678daa33f2aa",
              "IPY_MODEL_4295f3dc0a494198b776f682b327924d"
            ]
          }
        },
        "d8499a1a46144034b56489025aaee86f": {
          "model_module": "@jupyter-widgets/base",
          "model_name": "LayoutModel",
          "model_module_version": "1.2.0",
          "state": {
            "_view_name": "LayoutView",
            "grid_template_rows": null,
            "right": null,
            "justify_content": null,
            "_view_module": "@jupyter-widgets/base",
            "overflow": null,
            "_model_module_version": "1.2.0",
            "_view_count": null,
            "flex_flow": null,
            "width": null,
            "min_width": null,
            "border": null,
            "align_items": null,
            "bottom": null,
            "_model_module": "@jupyter-widgets/base",
            "top": null,
            "grid_column": null,
            "overflow_y": null,
            "overflow_x": null,
            "grid_auto_flow": null,
            "grid_area": null,
            "grid_template_columns": null,
            "flex": null,
            "_model_name": "LayoutModel",
            "justify_items": null,
            "grid_row": null,
            "max_height": null,
            "align_content": null,
            "visibility": null,
            "align_self": null,
            "height": null,
            "min_height": null,
            "padding": null,
            "grid_auto_rows": null,
            "grid_gap": null,
            "max_width": null,
            "order": null,
            "_view_module_version": "1.2.0",
            "grid_template_areas": null,
            "object_position": null,
            "object_fit": null,
            "grid_auto_columns": null,
            "margin": null,
            "display": null,
            "left": null
          }
        },
        "b982f93475414c0c8a92601717138dc4": {
          "model_module": "@jupyter-widgets/controls",
          "model_name": "HTMLModel",
          "model_module_version": "1.5.0",
          "state": {
            "_view_name": "HTMLView",
            "style": "IPY_MODEL_17ecb55f59dd411084d8692b80cc8cad",
            "_dom_classes": [],
            "description": "",
            "_model_name": "HTMLModel",
            "placeholder": "​",
            "_view_module": "@jupyter-widgets/controls",
            "_model_module_version": "1.5.0",
            "value": "Downloading: ",
            "_view_count": null,
            "_view_module_version": "1.5.0",
            "description_tooltip": null,
            "_model_module": "@jupyter-widgets/controls",
            "layout": "IPY_MODEL_a434f279213545da8a92da73bc320504"
          }
        },
        "98b513fb020744bfbbe0678daa33f2aa": {
          "model_module": "@jupyter-widgets/controls",
          "model_name": "FloatProgressModel",
          "model_module_version": "1.5.0",
          "state": {
            "_view_name": "ProgressView",
            "style": "IPY_MODEL_e1d75f47a76d4bf8b2941fe543e46242",
            "_dom_classes": [],
            "description": "",
            "_model_name": "FloatProgressModel",
            "bar_style": "success",
            "max": 1520,
            "_view_module": "@jupyter-widgets/controls",
            "_model_module_version": "1.5.0",
            "value": 1520,
            "_view_count": null,
            "_view_module_version": "1.5.0",
            "orientation": "horizontal",
            "min": 0,
            "description_tooltip": null,
            "_model_module": "@jupyter-widgets/controls",
            "layout": "IPY_MODEL_0c2955e8cff44b5ba998ca584e485e54"
          }
        },
        "4295f3dc0a494198b776f682b327924d": {
          "model_module": "@jupyter-widgets/controls",
          "model_name": "HTMLModel",
          "model_module_version": "1.5.0",
          "state": {
            "_view_name": "HTMLView",
            "style": "IPY_MODEL_eb10554a79a04ecf92517ba96ca956d9",
            "_dom_classes": [],
            "description": "",
            "_model_name": "HTMLModel",
            "placeholder": "​",
            "_view_module": "@jupyter-widgets/controls",
            "_model_module_version": "1.5.0",
            "value": " 3.19k/? [00:00&lt;00:00, 53.1kB/s]",
            "_view_count": null,
            "_view_module_version": "1.5.0",
            "description_tooltip": null,
            "_model_module": "@jupyter-widgets/controls",
            "layout": "IPY_MODEL_ad65c758c1114adab13e6dbf29f660aa"
          }
        },
        "17ecb55f59dd411084d8692b80cc8cad": {
          "model_module": "@jupyter-widgets/controls",
          "model_name": "DescriptionStyleModel",
          "model_module_version": "1.5.0",
          "state": {
            "_view_name": "StyleView",
            "_model_name": "DescriptionStyleModel",
            "description_width": "",
            "_view_module": "@jupyter-widgets/base",
            "_model_module_version": "1.5.0",
            "_view_count": null,
            "_view_module_version": "1.2.0",
            "_model_module": "@jupyter-widgets/controls"
          }
        },
        "a434f279213545da8a92da73bc320504": {
          "model_module": "@jupyter-widgets/base",
          "model_name": "LayoutModel",
          "model_module_version": "1.2.0",
          "state": {
            "_view_name": "LayoutView",
            "grid_template_rows": null,
            "right": null,
            "justify_content": null,
            "_view_module": "@jupyter-widgets/base",
            "overflow": null,
            "_model_module_version": "1.2.0",
            "_view_count": null,
            "flex_flow": null,
            "width": null,
            "min_width": null,
            "border": null,
            "align_items": null,
            "bottom": null,
            "_model_module": "@jupyter-widgets/base",
            "top": null,
            "grid_column": null,
            "overflow_y": null,
            "overflow_x": null,
            "grid_auto_flow": null,
            "grid_area": null,
            "grid_template_columns": null,
            "flex": null,
            "_model_name": "LayoutModel",
            "justify_items": null,
            "grid_row": null,
            "max_height": null,
            "align_content": null,
            "visibility": null,
            "align_self": null,
            "height": null,
            "min_height": null,
            "padding": null,
            "grid_auto_rows": null,
            "grid_gap": null,
            "max_width": null,
            "order": null,
            "_view_module_version": "1.2.0",
            "grid_template_areas": null,
            "object_position": null,
            "object_fit": null,
            "grid_auto_columns": null,
            "margin": null,
            "display": null,
            "left": null
          }
        },
        "e1d75f47a76d4bf8b2941fe543e46242": {
          "model_module": "@jupyter-widgets/controls",
          "model_name": "ProgressStyleModel",
          "model_module_version": "1.5.0",
          "state": {
            "_view_name": "StyleView",
            "_model_name": "ProgressStyleModel",
            "description_width": "",
            "_view_module": "@jupyter-widgets/base",
            "_model_module_version": "1.5.0",
            "_view_count": null,
            "_view_module_version": "1.2.0",
            "bar_color": null,
            "_model_module": "@jupyter-widgets/controls"
          }
        },
        "0c2955e8cff44b5ba998ca584e485e54": {
          "model_module": "@jupyter-widgets/base",
          "model_name": "LayoutModel",
          "model_module_version": "1.2.0",
          "state": {
            "_view_name": "LayoutView",
            "grid_template_rows": null,
            "right": null,
            "justify_content": null,
            "_view_module": "@jupyter-widgets/base",
            "overflow": null,
            "_model_module_version": "1.2.0",
            "_view_count": null,
            "flex_flow": null,
            "width": null,
            "min_width": null,
            "border": null,
            "align_items": null,
            "bottom": null,
            "_model_module": "@jupyter-widgets/base",
            "top": null,
            "grid_column": null,
            "overflow_y": null,
            "overflow_x": null,
            "grid_auto_flow": null,
            "grid_area": null,
            "grid_template_columns": null,
            "flex": null,
            "_model_name": "LayoutModel",
            "justify_items": null,
            "grid_row": null,
            "max_height": null,
            "align_content": null,
            "visibility": null,
            "align_self": null,
            "height": null,
            "min_height": null,
            "padding": null,
            "grid_auto_rows": null,
            "grid_gap": null,
            "max_width": null,
            "order": null,
            "_view_module_version": "1.2.0",
            "grid_template_areas": null,
            "object_position": null,
            "object_fit": null,
            "grid_auto_columns": null,
            "margin": null,
            "display": null,
            "left": null
          }
        },
        "eb10554a79a04ecf92517ba96ca956d9": {
          "model_module": "@jupyter-widgets/controls",
          "model_name": "DescriptionStyleModel",
          "model_module_version": "1.5.0",
          "state": {
            "_view_name": "StyleView",
            "_model_name": "DescriptionStyleModel",
            "description_width": "",
            "_view_module": "@jupyter-widgets/base",
            "_model_module_version": "1.5.0",
            "_view_count": null,
            "_view_module_version": "1.2.0",
            "_model_module": "@jupyter-widgets/controls"
          }
        },
        "ad65c758c1114adab13e6dbf29f660aa": {
          "model_module": "@jupyter-widgets/base",
          "model_name": "LayoutModel",
          "model_module_version": "1.2.0",
          "state": {
            "_view_name": "LayoutView",
            "grid_template_rows": null,
            "right": null,
            "justify_content": null,
            "_view_module": "@jupyter-widgets/base",
            "overflow": null,
            "_model_module_version": "1.2.0",
            "_view_count": null,
            "flex_flow": null,
            "width": null,
            "min_width": null,
            "border": null,
            "align_items": null,
            "bottom": null,
            "_model_module": "@jupyter-widgets/base",
            "top": null,
            "grid_column": null,
            "overflow_y": null,
            "overflow_x": null,
            "grid_auto_flow": null,
            "grid_area": null,
            "grid_template_columns": null,
            "flex": null,
            "_model_name": "LayoutModel",
            "justify_items": null,
            "grid_row": null,
            "max_height": null,
            "align_content": null,
            "visibility": null,
            "align_self": null,
            "height": null,
            "min_height": null,
            "padding": null,
            "grid_auto_rows": null,
            "grid_gap": null,
            "max_width": null,
            "order": null,
            "_view_module_version": "1.2.0",
            "grid_template_areas": null,
            "object_position": null,
            "object_fit": null,
            "grid_auto_columns": null,
            "margin": null,
            "display": null,
            "left": null
          }
        },
        "db4d60783a2b4cc9ac647f53524e9201": {
          "model_module": "@jupyter-widgets/controls",
          "model_name": "HBoxModel",
          "model_module_version": "1.5.0",
          "state": {
            "_view_name": "HBoxView",
            "_dom_classes": [],
            "_model_name": "HBoxModel",
            "_view_module": "@jupyter-widgets/controls",
            "_model_module_version": "1.5.0",
            "_view_count": null,
            "_view_module_version": "1.5.0",
            "box_style": "",
            "layout": "IPY_MODEL_23e6dd2b833d44aabc5b78a83d7ef136",
            "_model_module": "@jupyter-widgets/controls",
            "children": [
              "IPY_MODEL_8aff67fa78c640bf83598dd7fccc5b97",
              "IPY_MODEL_97ed312717014144af97d250fcd74d9d",
              "IPY_MODEL_7b69f1226cf5457aa164146a890a2c5e"
            ]
          }
        },
        "23e6dd2b833d44aabc5b78a83d7ef136": {
          "model_module": "@jupyter-widgets/base",
          "model_name": "LayoutModel",
          "model_module_version": "1.2.0",
          "state": {
            "_view_name": "LayoutView",
            "grid_template_rows": null,
            "right": null,
            "justify_content": null,
            "_view_module": "@jupyter-widgets/base",
            "overflow": null,
            "_model_module_version": "1.2.0",
            "_view_count": null,
            "flex_flow": null,
            "width": null,
            "min_width": null,
            "border": null,
            "align_items": null,
            "bottom": null,
            "_model_module": "@jupyter-widgets/base",
            "top": null,
            "grid_column": null,
            "overflow_y": null,
            "overflow_x": null,
            "grid_auto_flow": null,
            "grid_area": null,
            "grid_template_columns": null,
            "flex": null,
            "_model_name": "LayoutModel",
            "justify_items": null,
            "grid_row": null,
            "max_height": null,
            "align_content": null,
            "visibility": null,
            "align_self": null,
            "height": null,
            "min_height": null,
            "padding": null,
            "grid_auto_rows": null,
            "grid_gap": null,
            "max_width": null,
            "order": null,
            "_view_module_version": "1.2.0",
            "grid_template_areas": null,
            "object_position": null,
            "object_fit": null,
            "grid_auto_columns": null,
            "margin": null,
            "display": null,
            "left": null
          }
        },
        "8aff67fa78c640bf83598dd7fccc5b97": {
          "model_module": "@jupyter-widgets/controls",
          "model_name": "HTMLModel",
          "model_module_version": "1.5.0",
          "state": {
            "_view_name": "HTMLView",
            "style": "IPY_MODEL_d5ce787580584a40883fdac45df7917a",
            "_dom_classes": [],
            "description": "",
            "_model_name": "HTMLModel",
            "placeholder": "​",
            "_view_module": "@jupyter-widgets/controls",
            "_model_module_version": "1.5.0",
            "value": "Downloading: 100%",
            "_view_count": null,
            "_view_module_version": "1.5.0",
            "description_tooltip": null,
            "_model_module": "@jupyter-widgets/controls",
            "layout": "IPY_MODEL_1962a04347894250993d2eb3d2946e5c"
          }
        },
        "97ed312717014144af97d250fcd74d9d": {
          "model_module": "@jupyter-widgets/controls",
          "model_name": "FloatProgressModel",
          "model_module_version": "1.5.0",
          "state": {
            "_view_name": "ProgressView",
            "style": "IPY_MODEL_d5e1f379a1084c6e978a633698b4b02a",
            "_dom_classes": [],
            "description": "",
            "_model_name": "FloatProgressModel",
            "bar_style": "success",
            "max": 42,
            "_view_module": "@jupyter-widgets/controls",
            "_model_module_version": "1.5.0",
            "value": 42,
            "_view_count": null,
            "_view_module_version": "1.5.0",
            "orientation": "horizontal",
            "min": 0,
            "description_tooltip": null,
            "_model_module": "@jupyter-widgets/controls",
            "layout": "IPY_MODEL_b689909adc244204af714b9a19e158c0"
          }
        },
        "7b69f1226cf5457aa164146a890a2c5e": {
          "model_module": "@jupyter-widgets/controls",
          "model_name": "HTMLModel",
          "model_module_version": "1.5.0",
          "state": {
            "_view_name": "HTMLView",
            "style": "IPY_MODEL_8c32a5f5cb724610a4ea8a5b42be5b28",
            "_dom_classes": [],
            "description": "",
            "_model_name": "HTMLModel",
            "placeholder": "​",
            "_view_module": "@jupyter-widgets/controls",
            "_model_module_version": "1.5.0",
            "value": " 42.0/42.0 [00:00&lt;00:00, 792B/s]",
            "_view_count": null,
            "_view_module_version": "1.5.0",
            "description_tooltip": null,
            "_model_module": "@jupyter-widgets/controls",
            "layout": "IPY_MODEL_44db6a1a111148ceaa804f7302b0629b"
          }
        },
        "d5ce787580584a40883fdac45df7917a": {
          "model_module": "@jupyter-widgets/controls",
          "model_name": "DescriptionStyleModel",
          "model_module_version": "1.5.0",
          "state": {
            "_view_name": "StyleView",
            "_model_name": "DescriptionStyleModel",
            "description_width": "",
            "_view_module": "@jupyter-widgets/base",
            "_model_module_version": "1.5.0",
            "_view_count": null,
            "_view_module_version": "1.2.0",
            "_model_module": "@jupyter-widgets/controls"
          }
        },
        "1962a04347894250993d2eb3d2946e5c": {
          "model_module": "@jupyter-widgets/base",
          "model_name": "LayoutModel",
          "model_module_version": "1.2.0",
          "state": {
            "_view_name": "LayoutView",
            "grid_template_rows": null,
            "right": null,
            "justify_content": null,
            "_view_module": "@jupyter-widgets/base",
            "overflow": null,
            "_model_module_version": "1.2.0",
            "_view_count": null,
            "flex_flow": null,
            "width": null,
            "min_width": null,
            "border": null,
            "align_items": null,
            "bottom": null,
            "_model_module": "@jupyter-widgets/base",
            "top": null,
            "grid_column": null,
            "overflow_y": null,
            "overflow_x": null,
            "grid_auto_flow": null,
            "grid_area": null,
            "grid_template_columns": null,
            "flex": null,
            "_model_name": "LayoutModel",
            "justify_items": null,
            "grid_row": null,
            "max_height": null,
            "align_content": null,
            "visibility": null,
            "align_self": null,
            "height": null,
            "min_height": null,
            "padding": null,
            "grid_auto_rows": null,
            "grid_gap": null,
            "max_width": null,
            "order": null,
            "_view_module_version": "1.2.0",
            "grid_template_areas": null,
            "object_position": null,
            "object_fit": null,
            "grid_auto_columns": null,
            "margin": null,
            "display": null,
            "left": null
          }
        },
        "d5e1f379a1084c6e978a633698b4b02a": {
          "model_module": "@jupyter-widgets/controls",
          "model_name": "ProgressStyleModel",
          "model_module_version": "1.5.0",
          "state": {
            "_view_name": "StyleView",
            "_model_name": "ProgressStyleModel",
            "description_width": "",
            "_view_module": "@jupyter-widgets/base",
            "_model_module_version": "1.5.0",
            "_view_count": null,
            "_view_module_version": "1.2.0",
            "bar_color": null,
            "_model_module": "@jupyter-widgets/controls"
          }
        },
        "b689909adc244204af714b9a19e158c0": {
          "model_module": "@jupyter-widgets/base",
          "model_name": "LayoutModel",
          "model_module_version": "1.2.0",
          "state": {
            "_view_name": "LayoutView",
            "grid_template_rows": null,
            "right": null,
            "justify_content": null,
            "_view_module": "@jupyter-widgets/base",
            "overflow": null,
            "_model_module_version": "1.2.0",
            "_view_count": null,
            "flex_flow": null,
            "width": null,
            "min_width": null,
            "border": null,
            "align_items": null,
            "bottom": null,
            "_model_module": "@jupyter-widgets/base",
            "top": null,
            "grid_column": null,
            "overflow_y": null,
            "overflow_x": null,
            "grid_auto_flow": null,
            "grid_area": null,
            "grid_template_columns": null,
            "flex": null,
            "_model_name": "LayoutModel",
            "justify_items": null,
            "grid_row": null,
            "max_height": null,
            "align_content": null,
            "visibility": null,
            "align_self": null,
            "height": null,
            "min_height": null,
            "padding": null,
            "grid_auto_rows": null,
            "grid_gap": null,
            "max_width": null,
            "order": null,
            "_view_module_version": "1.2.0",
            "grid_template_areas": null,
            "object_position": null,
            "object_fit": null,
            "grid_auto_columns": null,
            "margin": null,
            "display": null,
            "left": null
          }
        },
        "8c32a5f5cb724610a4ea8a5b42be5b28": {
          "model_module": "@jupyter-widgets/controls",
          "model_name": "DescriptionStyleModel",
          "model_module_version": "1.5.0",
          "state": {
            "_view_name": "StyleView",
            "_model_name": "DescriptionStyleModel",
            "description_width": "",
            "_view_module": "@jupyter-widgets/base",
            "_model_module_version": "1.5.0",
            "_view_count": null,
            "_view_module_version": "1.2.0",
            "_model_module": "@jupyter-widgets/controls"
          }
        },
        "44db6a1a111148ceaa804f7302b0629b": {
          "model_module": "@jupyter-widgets/base",
          "model_name": "LayoutModel",
          "model_module_version": "1.2.0",
          "state": {
            "_view_name": "LayoutView",
            "grid_template_rows": null,
            "right": null,
            "justify_content": null,
            "_view_module": "@jupyter-widgets/base",
            "overflow": null,
            "_model_module_version": "1.2.0",
            "_view_count": null,
            "flex_flow": null,
            "width": null,
            "min_width": null,
            "border": null,
            "align_items": null,
            "bottom": null,
            "_model_module": "@jupyter-widgets/base",
            "top": null,
            "grid_column": null,
            "overflow_y": null,
            "overflow_x": null,
            "grid_auto_flow": null,
            "grid_area": null,
            "grid_template_columns": null,
            "flex": null,
            "_model_name": "LayoutModel",
            "justify_items": null,
            "grid_row": null,
            "max_height": null,
            "align_content": null,
            "visibility": null,
            "align_self": null,
            "height": null,
            "min_height": null,
            "padding": null,
            "grid_auto_rows": null,
            "grid_gap": null,
            "max_width": null,
            "order": null,
            "_view_module_version": "1.2.0",
            "grid_template_areas": null,
            "object_position": null,
            "object_fit": null,
            "grid_auto_columns": null,
            "margin": null,
            "display": null,
            "left": null
          }
        },
        "f56b5b8abcfc415fbf46ca0f2fe619d0": {
          "model_module": "@jupyter-widgets/controls",
          "model_name": "HBoxModel",
          "model_module_version": "1.5.0",
          "state": {
            "_view_name": "HBoxView",
            "_dom_classes": [],
            "_model_name": "HBoxModel",
            "_view_module": "@jupyter-widgets/controls",
            "_model_module_version": "1.5.0",
            "_view_count": null,
            "_view_module_version": "1.5.0",
            "box_style": "",
            "layout": "IPY_MODEL_ef09f1189d75431591bebf33d288dacc",
            "_model_module": "@jupyter-widgets/controls",
            "children": [
              "IPY_MODEL_12e50a27f9f24575bd86305f3b609095",
              "IPY_MODEL_24cc9a4f2e4a411296dd6822329e5815",
              "IPY_MODEL_f83d5ec459fe4dfd9ebf46fcca9895ee"
            ]
          }
        },
        "ef09f1189d75431591bebf33d288dacc": {
          "model_module": "@jupyter-widgets/base",
          "model_name": "LayoutModel",
          "model_module_version": "1.2.0",
          "state": {
            "_view_name": "LayoutView",
            "grid_template_rows": null,
            "right": null,
            "justify_content": null,
            "_view_module": "@jupyter-widgets/base",
            "overflow": null,
            "_model_module_version": "1.2.0",
            "_view_count": null,
            "flex_flow": null,
            "width": null,
            "min_width": null,
            "border": null,
            "align_items": null,
            "bottom": null,
            "_model_module": "@jupyter-widgets/base",
            "top": null,
            "grid_column": null,
            "overflow_y": null,
            "overflow_x": null,
            "grid_auto_flow": null,
            "grid_area": null,
            "grid_template_columns": null,
            "flex": null,
            "_model_name": "LayoutModel",
            "justify_items": null,
            "grid_row": null,
            "max_height": null,
            "align_content": null,
            "visibility": null,
            "align_self": null,
            "height": null,
            "min_height": null,
            "padding": null,
            "grid_auto_rows": null,
            "grid_gap": null,
            "max_width": null,
            "order": null,
            "_view_module_version": "1.2.0",
            "grid_template_areas": null,
            "object_position": null,
            "object_fit": null,
            "grid_auto_columns": null,
            "margin": null,
            "display": null,
            "left": null
          }
        },
        "12e50a27f9f24575bd86305f3b609095": {
          "model_module": "@jupyter-widgets/controls",
          "model_name": "HTMLModel",
          "model_module_version": "1.5.0",
          "state": {
            "_view_name": "HTMLView",
            "style": "IPY_MODEL_382f2bc5fc944482861293a496fb03ed",
            "_dom_classes": [],
            "description": "",
            "_model_name": "HTMLModel",
            "placeholder": "​",
            "_view_module": "@jupyter-widgets/controls",
            "_model_module_version": "1.5.0",
            "value": "100%",
            "_view_count": null,
            "_view_module_version": "1.5.0",
            "description_tooltip": null,
            "_model_module": "@jupyter-widgets/controls",
            "layout": "IPY_MODEL_330c9a9e97c9436f9d29bb12c586253a"
          }
        },
        "24cc9a4f2e4a411296dd6822329e5815": {
          "model_module": "@jupyter-widgets/controls",
          "model_name": "FloatProgressModel",
          "model_module_version": "1.5.0",
          "state": {
            "_view_name": "ProgressView",
            "style": "IPY_MODEL_af955c59afc54adc8f1072d371b688bc",
            "_dom_classes": [],
            "description": "",
            "_model_name": "FloatProgressModel",
            "bar_style": "success",
            "max": 611,
            "_view_module": "@jupyter-widgets/controls",
            "_model_module_version": "1.5.0",
            "value": 611,
            "_view_count": null,
            "_view_module_version": "1.5.0",
            "orientation": "horizontal",
            "min": 0,
            "description_tooltip": null,
            "_model_module": "@jupyter-widgets/controls",
            "layout": "IPY_MODEL_5b4edc877e524610bb9ecc8103763250"
          }
        },
        "f83d5ec459fe4dfd9ebf46fcca9895ee": {
          "model_module": "@jupyter-widgets/controls",
          "model_name": "HTMLModel",
          "model_module_version": "1.5.0",
          "state": {
            "_view_name": "HTMLView",
            "style": "IPY_MODEL_d3190da3507f4ab4be03027179566508",
            "_dom_classes": [],
            "description": "",
            "_model_name": "HTMLModel",
            "placeholder": "​",
            "_view_module": "@jupyter-widgets/controls",
            "_model_module_version": "1.5.0",
            "value": " 611/611 [04:36&lt;00:00,  2.78ba/s]",
            "_view_count": null,
            "_view_module_version": "1.5.0",
            "description_tooltip": null,
            "_model_module": "@jupyter-widgets/controls",
            "layout": "IPY_MODEL_7dac8e5e55ce4e638942c4299b377e3a"
          }
        },
        "382f2bc5fc944482861293a496fb03ed": {
          "model_module": "@jupyter-widgets/controls",
          "model_name": "DescriptionStyleModel",
          "model_module_version": "1.5.0",
          "state": {
            "_view_name": "StyleView",
            "_model_name": "DescriptionStyleModel",
            "description_width": "",
            "_view_module": "@jupyter-widgets/base",
            "_model_module_version": "1.5.0",
            "_view_count": null,
            "_view_module_version": "1.2.0",
            "_model_module": "@jupyter-widgets/controls"
          }
        },
        "330c9a9e97c9436f9d29bb12c586253a": {
          "model_module": "@jupyter-widgets/base",
          "model_name": "LayoutModel",
          "model_module_version": "1.2.0",
          "state": {
            "_view_name": "LayoutView",
            "grid_template_rows": null,
            "right": null,
            "justify_content": null,
            "_view_module": "@jupyter-widgets/base",
            "overflow": null,
            "_model_module_version": "1.2.0",
            "_view_count": null,
            "flex_flow": null,
            "width": null,
            "min_width": null,
            "border": null,
            "align_items": null,
            "bottom": null,
            "_model_module": "@jupyter-widgets/base",
            "top": null,
            "grid_column": null,
            "overflow_y": null,
            "overflow_x": null,
            "grid_auto_flow": null,
            "grid_area": null,
            "grid_template_columns": null,
            "flex": null,
            "_model_name": "LayoutModel",
            "justify_items": null,
            "grid_row": null,
            "max_height": null,
            "align_content": null,
            "visibility": null,
            "align_self": null,
            "height": null,
            "min_height": null,
            "padding": null,
            "grid_auto_rows": null,
            "grid_gap": null,
            "max_width": null,
            "order": null,
            "_view_module_version": "1.2.0",
            "grid_template_areas": null,
            "object_position": null,
            "object_fit": null,
            "grid_auto_columns": null,
            "margin": null,
            "display": null,
            "left": null
          }
        },
        "af955c59afc54adc8f1072d371b688bc": {
          "model_module": "@jupyter-widgets/controls",
          "model_name": "ProgressStyleModel",
          "model_module_version": "1.5.0",
          "state": {
            "_view_name": "StyleView",
            "_model_name": "ProgressStyleModel",
            "description_width": "",
            "_view_module": "@jupyter-widgets/base",
            "_model_module_version": "1.5.0",
            "_view_count": null,
            "_view_module_version": "1.2.0",
            "bar_color": null,
            "_model_module": "@jupyter-widgets/controls"
          }
        },
        "5b4edc877e524610bb9ecc8103763250": {
          "model_module": "@jupyter-widgets/base",
          "model_name": "LayoutModel",
          "model_module_version": "1.2.0",
          "state": {
            "_view_name": "LayoutView",
            "grid_template_rows": null,
            "right": null,
            "justify_content": null,
            "_view_module": "@jupyter-widgets/base",
            "overflow": null,
            "_model_module_version": "1.2.0",
            "_view_count": null,
            "flex_flow": null,
            "width": null,
            "min_width": null,
            "border": null,
            "align_items": null,
            "bottom": null,
            "_model_module": "@jupyter-widgets/base",
            "top": null,
            "grid_column": null,
            "overflow_y": null,
            "overflow_x": null,
            "grid_auto_flow": null,
            "grid_area": null,
            "grid_template_columns": null,
            "flex": null,
            "_model_name": "LayoutModel",
            "justify_items": null,
            "grid_row": null,
            "max_height": null,
            "align_content": null,
            "visibility": null,
            "align_self": null,
            "height": null,
            "min_height": null,
            "padding": null,
            "grid_auto_rows": null,
            "grid_gap": null,
            "max_width": null,
            "order": null,
            "_view_module_version": "1.2.0",
            "grid_template_areas": null,
            "object_position": null,
            "object_fit": null,
            "grid_auto_columns": null,
            "margin": null,
            "display": null,
            "left": null
          }
        },
        "d3190da3507f4ab4be03027179566508": {
          "model_module": "@jupyter-widgets/controls",
          "model_name": "DescriptionStyleModel",
          "model_module_version": "1.5.0",
          "state": {
            "_view_name": "StyleView",
            "_model_name": "DescriptionStyleModel",
            "description_width": "",
            "_view_module": "@jupyter-widgets/base",
            "_model_module_version": "1.5.0",
            "_view_count": null,
            "_view_module_version": "1.2.0",
            "_model_module": "@jupyter-widgets/controls"
          }
        },
        "7dac8e5e55ce4e638942c4299b377e3a": {
          "model_module": "@jupyter-widgets/base",
          "model_name": "LayoutModel",
          "model_module_version": "1.2.0",
          "state": {
            "_view_name": "LayoutView",
            "grid_template_rows": null,
            "right": null,
            "justify_content": null,
            "_view_module": "@jupyter-widgets/base",
            "overflow": null,
            "_model_module_version": "1.2.0",
            "_view_count": null,
            "flex_flow": null,
            "width": null,
            "min_width": null,
            "border": null,
            "align_items": null,
            "bottom": null,
            "_model_module": "@jupyter-widgets/base",
            "top": null,
            "grid_column": null,
            "overflow_y": null,
            "overflow_x": null,
            "grid_auto_flow": null,
            "grid_area": null,
            "grid_template_columns": null,
            "flex": null,
            "_model_name": "LayoutModel",
            "justify_items": null,
            "grid_row": null,
            "max_height": null,
            "align_content": null,
            "visibility": null,
            "align_self": null,
            "height": null,
            "min_height": null,
            "padding": null,
            "grid_auto_rows": null,
            "grid_gap": null,
            "max_width": null,
            "order": null,
            "_view_module_version": "1.2.0",
            "grid_template_areas": null,
            "object_position": null,
            "object_fit": null,
            "grid_auto_columns": null,
            "margin": null,
            "display": null,
            "left": null
          }
        },
        "001c2cf8d21d4703bc190149a82d06ab": {
          "model_module": "@jupyter-widgets/controls",
          "model_name": "HBoxModel",
          "model_module_version": "1.5.0",
          "state": {
            "_view_name": "HBoxView",
            "_dom_classes": [],
            "_model_name": "HBoxModel",
            "_view_module": "@jupyter-widgets/controls",
            "_model_module_version": "1.5.0",
            "_view_count": null,
            "_view_module_version": "1.5.0",
            "box_style": "",
            "layout": "IPY_MODEL_c8c29e7a13804b6c9e97c3ff425bd81d",
            "_model_module": "@jupyter-widgets/controls",
            "children": [
              "IPY_MODEL_13c6c16b336c404fa84cba2ee42debde",
              "IPY_MODEL_31bbbf7e34a14335b628add663c71642",
              "IPY_MODEL_a23d83e9f0ea4ac8b57ec5f1614414dc"
            ]
          }
        },
        "c8c29e7a13804b6c9e97c3ff425bd81d": {
          "model_module": "@jupyter-widgets/base",
          "model_name": "LayoutModel",
          "model_module_version": "1.2.0",
          "state": {
            "_view_name": "LayoutView",
            "grid_template_rows": null,
            "right": null,
            "justify_content": null,
            "_view_module": "@jupyter-widgets/base",
            "overflow": null,
            "_model_module_version": "1.2.0",
            "_view_count": null,
            "flex_flow": null,
            "width": null,
            "min_width": null,
            "border": null,
            "align_items": null,
            "bottom": null,
            "_model_module": "@jupyter-widgets/base",
            "top": null,
            "grid_column": null,
            "overflow_y": null,
            "overflow_x": null,
            "grid_auto_flow": null,
            "grid_area": null,
            "grid_template_columns": null,
            "flex": null,
            "_model_name": "LayoutModel",
            "justify_items": null,
            "grid_row": null,
            "max_height": null,
            "align_content": null,
            "visibility": null,
            "align_self": null,
            "height": null,
            "min_height": null,
            "padding": null,
            "grid_auto_rows": null,
            "grid_gap": null,
            "max_width": null,
            "order": null,
            "_view_module_version": "1.2.0",
            "grid_template_areas": null,
            "object_position": null,
            "object_fit": null,
            "grid_auto_columns": null,
            "margin": null,
            "display": null,
            "left": null
          }
        },
        "13c6c16b336c404fa84cba2ee42debde": {
          "model_module": "@jupyter-widgets/controls",
          "model_name": "HTMLModel",
          "model_module_version": "1.5.0",
          "state": {
            "_view_name": "HTMLView",
            "style": "IPY_MODEL_ae117dc6e1fb41eca964e34601c6aa6c",
            "_dom_classes": [],
            "description": "",
            "_model_name": "HTMLModel",
            "placeholder": "​",
            "_view_module": "@jupyter-widgets/controls",
            "_model_module_version": "1.5.0",
            "value": "Downloading: 100%",
            "_view_count": null,
            "_view_module_version": "1.5.0",
            "description_tooltip": null,
            "_model_module": "@jupyter-widgets/controls",
            "layout": "IPY_MODEL_7616cd08bb494b8f988b9e893bb8bb25"
          }
        },
        "31bbbf7e34a14335b628add663c71642": {
          "model_module": "@jupyter-widgets/controls",
          "model_name": "FloatProgressModel",
          "model_module_version": "1.5.0",
          "state": {
            "_view_name": "ProgressView",
            "style": "IPY_MODEL_064aa5db0924410bb17646220304faea",
            "_dom_classes": [],
            "description": "",
            "_model_name": "FloatProgressModel",
            "bar_style": "success",
            "max": 300887193,
            "_view_module": "@jupyter-widgets/controls",
            "_model_module_version": "1.5.0",
            "value": 300887193,
            "_view_count": null,
            "_view_module_version": "1.5.0",
            "orientation": "horizontal",
            "min": 0,
            "description_tooltip": null,
            "_model_module": "@jupyter-widgets/controls",
            "layout": "IPY_MODEL_c0e574d69ffb426b87d3445d26e02926"
          }
        },
        "a23d83e9f0ea4ac8b57ec5f1614414dc": {
          "model_module": "@jupyter-widgets/controls",
          "model_name": "HTMLModel",
          "model_module_version": "1.5.0",
          "state": {
            "_view_name": "HTMLView",
            "style": "IPY_MODEL_c2c7fbedceba45aa822c96d7f1cb6134",
            "_dom_classes": [],
            "description": "",
            "_model_name": "HTMLModel",
            "placeholder": "​",
            "_view_module": "@jupyter-widgets/controls",
            "_model_module_version": "1.5.0",
            "value": " 287M/287M [00:10&lt;00:00, 29.0MB/s]",
            "_view_count": null,
            "_view_module_version": "1.5.0",
            "description_tooltip": null,
            "_model_module": "@jupyter-widgets/controls",
            "layout": "IPY_MODEL_48eb8b6feb8a47b79fbd924a7a5c6df1"
          }
        },
        "ae117dc6e1fb41eca964e34601c6aa6c": {
          "model_module": "@jupyter-widgets/controls",
          "model_name": "DescriptionStyleModel",
          "model_module_version": "1.5.0",
          "state": {
            "_view_name": "StyleView",
            "_model_name": "DescriptionStyleModel",
            "description_width": "",
            "_view_module": "@jupyter-widgets/base",
            "_model_module_version": "1.5.0",
            "_view_count": null,
            "_view_module_version": "1.2.0",
            "_model_module": "@jupyter-widgets/controls"
          }
        },
        "7616cd08bb494b8f988b9e893bb8bb25": {
          "model_module": "@jupyter-widgets/base",
          "model_name": "LayoutModel",
          "model_module_version": "1.2.0",
          "state": {
            "_view_name": "LayoutView",
            "grid_template_rows": null,
            "right": null,
            "justify_content": null,
            "_view_module": "@jupyter-widgets/base",
            "overflow": null,
            "_model_module_version": "1.2.0",
            "_view_count": null,
            "flex_flow": null,
            "width": null,
            "min_width": null,
            "border": null,
            "align_items": null,
            "bottom": null,
            "_model_module": "@jupyter-widgets/base",
            "top": null,
            "grid_column": null,
            "overflow_y": null,
            "overflow_x": null,
            "grid_auto_flow": null,
            "grid_area": null,
            "grid_template_columns": null,
            "flex": null,
            "_model_name": "LayoutModel",
            "justify_items": null,
            "grid_row": null,
            "max_height": null,
            "align_content": null,
            "visibility": null,
            "align_self": null,
            "height": null,
            "min_height": null,
            "padding": null,
            "grid_auto_rows": null,
            "grid_gap": null,
            "max_width": null,
            "order": null,
            "_view_module_version": "1.2.0",
            "grid_template_areas": null,
            "object_position": null,
            "object_fit": null,
            "grid_auto_columns": null,
            "margin": null,
            "display": null,
            "left": null
          }
        },
        "064aa5db0924410bb17646220304faea": {
          "model_module": "@jupyter-widgets/controls",
          "model_name": "ProgressStyleModel",
          "model_module_version": "1.5.0",
          "state": {
            "_view_name": "StyleView",
            "_model_name": "ProgressStyleModel",
            "description_width": "",
            "_view_module": "@jupyter-widgets/base",
            "_model_module_version": "1.5.0",
            "_view_count": null,
            "_view_module_version": "1.2.0",
            "bar_color": null,
            "_model_module": "@jupyter-widgets/controls"
          }
        },
        "c0e574d69ffb426b87d3445d26e02926": {
          "model_module": "@jupyter-widgets/base",
          "model_name": "LayoutModel",
          "model_module_version": "1.2.0",
          "state": {
            "_view_name": "LayoutView",
            "grid_template_rows": null,
            "right": null,
            "justify_content": null,
            "_view_module": "@jupyter-widgets/base",
            "overflow": null,
            "_model_module_version": "1.2.0",
            "_view_count": null,
            "flex_flow": null,
            "width": null,
            "min_width": null,
            "border": null,
            "align_items": null,
            "bottom": null,
            "_model_module": "@jupyter-widgets/base",
            "top": null,
            "grid_column": null,
            "overflow_y": null,
            "overflow_x": null,
            "grid_auto_flow": null,
            "grid_area": null,
            "grid_template_columns": null,
            "flex": null,
            "_model_name": "LayoutModel",
            "justify_items": null,
            "grid_row": null,
            "max_height": null,
            "align_content": null,
            "visibility": null,
            "align_self": null,
            "height": null,
            "min_height": null,
            "padding": null,
            "grid_auto_rows": null,
            "grid_gap": null,
            "max_width": null,
            "order": null,
            "_view_module_version": "1.2.0",
            "grid_template_areas": null,
            "object_position": null,
            "object_fit": null,
            "grid_auto_columns": null,
            "margin": null,
            "display": null,
            "left": null
          }
        },
        "c2c7fbedceba45aa822c96d7f1cb6134": {
          "model_module": "@jupyter-widgets/controls",
          "model_name": "DescriptionStyleModel",
          "model_module_version": "1.5.0",
          "state": {
            "_view_name": "StyleView",
            "_model_name": "DescriptionStyleModel",
            "description_width": "",
            "_view_module": "@jupyter-widgets/base",
            "_model_module_version": "1.5.0",
            "_view_count": null,
            "_view_module_version": "1.2.0",
            "_model_module": "@jupyter-widgets/controls"
          }
        },
        "48eb8b6feb8a47b79fbd924a7a5c6df1": {
          "model_module": "@jupyter-widgets/base",
          "model_name": "LayoutModel",
          "model_module_version": "1.2.0",
          "state": {
            "_view_name": "LayoutView",
            "grid_template_rows": null,
            "right": null,
            "justify_content": null,
            "_view_module": "@jupyter-widgets/base",
            "overflow": null,
            "_model_module_version": "1.2.0",
            "_view_count": null,
            "flex_flow": null,
            "width": null,
            "min_width": null,
            "border": null,
            "align_items": null,
            "bottom": null,
            "_model_module": "@jupyter-widgets/base",
            "top": null,
            "grid_column": null,
            "overflow_y": null,
            "overflow_x": null,
            "grid_auto_flow": null,
            "grid_area": null,
            "grid_template_columns": null,
            "flex": null,
            "_model_name": "LayoutModel",
            "justify_items": null,
            "grid_row": null,
            "max_height": null,
            "align_content": null,
            "visibility": null,
            "align_self": null,
            "height": null,
            "min_height": null,
            "padding": null,
            "grid_auto_rows": null,
            "grid_gap": null,
            "max_width": null,
            "order": null,
            "_view_module_version": "1.2.0",
            "grid_template_areas": null,
            "object_position": null,
            "object_fit": null,
            "grid_auto_columns": null,
            "margin": null,
            "display": null,
            "left": null
          }
        }
      }
    }
  },
  "cells": [
    {
      "cell_type": "code",
      "metadata": {
        "id": "tmYJBBbwyiX3"
      },
      "source": [
        "import os\n",
        "os.environ[\"WANDB_DISABLED\"]=\"true\""
      ],
      "execution_count": null,
      "outputs": []
    },
    {
      "cell_type": "code",
      "metadata": {
        "execution": {
          "iopub.status.busy": "2021-09-29T08:56:53.223644Z",
          "iopub.execute_input": "2021-09-29T08:56:53.224201Z",
          "iopub.status.idle": "2021-09-29T08:57:00.101672Z",
          "shell.execute_reply.started": "2021-09-29T08:56:53.224163Z",
          "shell.execute_reply": "2021-09-29T08:57:00.100739Z"
        },
        "trusted": true,
        "colab": {
          "base_uri": "https://localhost:8080/"
        },
        "id": "SqADZ2Sgx5Ua",
        "outputId": "60c95827-a686-45eb-c201-e23bc8b03b2b"
      },
      "source": [
        "! pip install datasets transformers sacrebleu torch sentencepiece transformers[sentencepiece]"
      ],
      "execution_count": null,
      "outputs": [
        {
          "output_type": "stream",
          "name": "stdout",
          "text": [
            "Collecting datasets\n",
            "  Downloading datasets-1.12.1-py3-none-any.whl (270 kB)\n",
            "\u001b[K     |████████████████████████████████| 270 kB 5.2 MB/s \n",
            "\u001b[?25hCollecting transformers\n",
            "  Downloading transformers-4.11.3-py3-none-any.whl (2.9 MB)\n",
            "\u001b[K     |████████████████████████████████| 2.9 MB 38.9 MB/s \n",
            "\u001b[?25hCollecting sacrebleu\n",
            "  Downloading sacrebleu-2.0.0-py3-none-any.whl (90 kB)\n",
            "\u001b[K     |████████████████████████████████| 90 kB 9.0 MB/s \n",
            "\u001b[?25hRequirement already satisfied: torch in /usr/local/lib/python3.7/dist-packages (1.9.0+cu111)\n",
            "Collecting sentencepiece\n",
            "  Downloading sentencepiece-0.1.96-cp37-cp37m-manylinux_2_17_x86_64.manylinux2014_x86_64.whl (1.2 MB)\n",
            "\u001b[K     |████████████████████████████████| 1.2 MB 44.8 MB/s \n",
            "\u001b[?25hRequirement already satisfied: tqdm>=4.62.1 in /usr/local/lib/python3.7/dist-packages (from datasets) (4.62.3)\n",
            "Collecting xxhash\n",
            "  Downloading xxhash-2.0.2-cp37-cp37m-manylinux2010_x86_64.whl (243 kB)\n",
            "\u001b[K     |████████████████████████████████| 243 kB 45.9 MB/s \n",
            "\u001b[?25hCollecting aiohttp\n",
            "  Downloading aiohttp-3.7.4.post0-cp37-cp37m-manylinux2014_x86_64.whl (1.3 MB)\n",
            "\u001b[K     |████████████████████████████████| 1.3 MB 33.0 MB/s \n",
            "\u001b[?25hRequirement already satisfied: importlib-metadata in /usr/local/lib/python3.7/dist-packages (from datasets) (4.8.1)\n",
            "Collecting fsspec[http]>=2021.05.0\n",
            "  Downloading fsspec-2021.10.0-py3-none-any.whl (125 kB)\n",
            "\u001b[K     |████████████████████████████████| 125 kB 47.7 MB/s \n",
            "\u001b[?25hRequirement already satisfied: multiprocess in /usr/local/lib/python3.7/dist-packages (from datasets) (0.70.12.2)\n",
            "Requirement already satisfied: pyarrow!=4.0.0,>=1.0.0 in /usr/local/lib/python3.7/dist-packages (from datasets) (3.0.0)\n",
            "Requirement already satisfied: dill in /usr/local/lib/python3.7/dist-packages (from datasets) (0.3.4)\n",
            "Requirement already satisfied: requests>=2.19.0 in /usr/local/lib/python3.7/dist-packages (from datasets) (2.23.0)\n",
            "Requirement already satisfied: packaging in /usr/local/lib/python3.7/dist-packages (from datasets) (21.0)\n",
            "Collecting huggingface-hub<0.1.0,>=0.0.14\n",
            "  Downloading huggingface_hub-0.0.19-py3-none-any.whl (56 kB)\n",
            "\u001b[K     |████████████████████████████████| 56 kB 4.7 MB/s \n",
            "\u001b[?25hRequirement already satisfied: pandas in /usr/local/lib/python3.7/dist-packages (from datasets) (1.1.5)\n",
            "Requirement already satisfied: numpy>=1.17 in /usr/local/lib/python3.7/dist-packages (from datasets) (1.19.5)\n",
            "Requirement already satisfied: typing-extensions in /usr/local/lib/python3.7/dist-packages (from huggingface-hub<0.1.0,>=0.0.14->datasets) (3.7.4.3)\n",
            "Requirement already satisfied: filelock in /usr/local/lib/python3.7/dist-packages (from huggingface-hub<0.1.0,>=0.0.14->datasets) (3.3.0)\n",
            "Requirement already satisfied: pyyaml in /usr/local/lib/python3.7/dist-packages (from huggingface-hub<0.1.0,>=0.0.14->datasets) (3.13)\n",
            "Requirement already satisfied: pyparsing>=2.0.2 in /usr/local/lib/python3.7/dist-packages (from packaging->datasets) (2.4.7)\n",
            "Requirement already satisfied: idna<3,>=2.5 in /usr/local/lib/python3.7/dist-packages (from requests>=2.19.0->datasets) (2.10)\n",
            "Requirement already satisfied: chardet<4,>=3.0.2 in /usr/local/lib/python3.7/dist-packages (from requests>=2.19.0->datasets) (3.0.4)\n",
            "Requirement already satisfied: certifi>=2017.4.17 in /usr/local/lib/python3.7/dist-packages (from requests>=2.19.0->datasets) (2021.5.30)\n",
            "Requirement already satisfied: urllib3!=1.25.0,!=1.25.1,<1.26,>=1.21.1 in /usr/local/lib/python3.7/dist-packages (from requests>=2.19.0->datasets) (1.24.3)\n",
            "Collecting sacremoses\n",
            "  Downloading sacremoses-0.0.46-py3-none-any.whl (895 kB)\n",
            "\u001b[K     |████████████████████████████████| 895 kB 29.8 MB/s \n",
            "\u001b[?25hCollecting pyyaml\n",
            "  Downloading PyYAML-5.4.1-cp37-cp37m-manylinux1_x86_64.whl (636 kB)\n",
            "\u001b[K     |████████████████████████████████| 636 kB 44.9 MB/s \n",
            "\u001b[?25hCollecting tokenizers<0.11,>=0.10.1\n",
            "  Downloading tokenizers-0.10.3-cp37-cp37m-manylinux_2_5_x86_64.manylinux1_x86_64.manylinux_2_12_x86_64.manylinux2010_x86_64.whl (3.3 MB)\n",
            "\u001b[K     |████████████████████████████████| 3.3 MB 33.3 MB/s \n",
            "\u001b[?25hRequirement already satisfied: regex!=2019.12.17 in /usr/local/lib/python3.7/dist-packages (from transformers) (2019.12.20)\n",
            "Requirement already satisfied: tabulate>=0.8.9 in /usr/local/lib/python3.7/dist-packages (from sacrebleu) (0.8.9)\n",
            "Collecting portalocker\n",
            "  Downloading portalocker-2.3.2-py2.py3-none-any.whl (15 kB)\n",
            "Collecting colorama\n",
            "  Downloading colorama-0.4.4-py2.py3-none-any.whl (16 kB)\n",
            "Collecting multidict<7.0,>=4.5\n",
            "  Downloading multidict-5.2.0-cp37-cp37m-manylinux_2_5_x86_64.manylinux1_x86_64.manylinux_2_12_x86_64.manylinux2010_x86_64.whl (160 kB)\n",
            "\u001b[K     |████████████████████████████████| 160 kB 44.0 MB/s \n",
            "\u001b[?25hRequirement already satisfied: attrs>=17.3.0 in /usr/local/lib/python3.7/dist-packages (from aiohttp->datasets) (21.2.0)\n",
            "Collecting async-timeout<4.0,>=3.0\n",
            "  Downloading async_timeout-3.0.1-py3-none-any.whl (8.2 kB)\n",
            "Collecting yarl<2.0,>=1.0\n",
            "  Downloading yarl-1.7.0-cp37-cp37m-manylinux_2_5_x86_64.manylinux1_x86_64.manylinux_2_12_x86_64.manylinux2010_x86_64.whl (271 kB)\n",
            "\u001b[K     |████████████████████████████████| 271 kB 33.8 MB/s \n",
            "\u001b[?25hRequirement already satisfied: zipp>=0.5 in /usr/local/lib/python3.7/dist-packages (from importlib-metadata->datasets) (3.6.0)\n",
            "Requirement already satisfied: pytz>=2017.2 in /usr/local/lib/python3.7/dist-packages (from pandas->datasets) (2018.9)\n",
            "Requirement already satisfied: python-dateutil>=2.7.3 in /usr/local/lib/python3.7/dist-packages (from pandas->datasets) (2.8.2)\n",
            "Requirement already satisfied: six>=1.5 in /usr/local/lib/python3.7/dist-packages (from python-dateutil>=2.7.3->pandas->datasets) (1.15.0)\n",
            "Requirement already satisfied: joblib in /usr/local/lib/python3.7/dist-packages (from sacremoses->transformers) (1.0.1)\n",
            "Requirement already satisfied: click in /usr/local/lib/python3.7/dist-packages (from sacremoses->transformers) (7.1.2)\n",
            "Requirement already satisfied: protobuf in /usr/local/lib/python3.7/dist-packages (from transformers) (3.17.3)\n",
            "Installing collected packages: multidict, yarl, pyyaml, async-timeout, tokenizers, sacremoses, huggingface-hub, fsspec, aiohttp, xxhash, transformers, sentencepiece, portalocker, colorama, sacrebleu, datasets\n",
            "  Attempting uninstall: pyyaml\n",
            "    Found existing installation: PyYAML 3.13\n",
            "    Uninstalling PyYAML-3.13:\n",
            "      Successfully uninstalled PyYAML-3.13\n",
            "Successfully installed aiohttp-3.7.4.post0 async-timeout-3.0.1 colorama-0.4.4 datasets-1.12.1 fsspec-2021.10.0 huggingface-hub-0.0.19 multidict-5.2.0 portalocker-2.3.2 pyyaml-5.4.1 sacrebleu-2.0.0 sacremoses-0.0.46 sentencepiece-0.1.96 tokenizers-0.10.3 transformers-4.11.3 xxhash-2.0.2 yarl-1.7.0\n"
          ]
        }
      ]
    },
    {
      "cell_type": "code",
      "metadata": {
        "execution": {
          "iopub.status.busy": "2021-09-29T08:57:00.104182Z",
          "iopub.execute_input": "2021-09-29T08:57:00.104596Z",
          "iopub.status.idle": "2021-09-29T08:57:00.284764Z",
          "shell.execute_reply.started": "2021-09-29T08:57:00.104552Z",
          "shell.execute_reply": "2021-09-29T08:57:00.283961Z"
        },
        "trusted": true,
        "colab": {
          "base_uri": "https://localhost:8080/"
        },
        "id": "5xKFwtNEx5Uc",
        "outputId": "1206f370-b7a8-4a34-bc6d-36f1a731be6a"
      },
      "source": [
        "import transformers\n",
        "print(transformers.__version__)"
      ],
      "execution_count": null,
      "outputs": [
        {
          "output_type": "stream",
          "name": "stdout",
          "text": [
            "4.11.3\n"
          ]
        }
      ]
    },
    {
      "cell_type": "code",
      "metadata": {
        "execution": {
          "iopub.status.busy": "2021-09-29T08:57:00.286261Z",
          "iopub.execute_input": "2021-09-29T08:57:00.286818Z",
          "iopub.status.idle": "2021-09-29T08:57:00.290815Z",
          "shell.execute_reply.started": "2021-09-29T08:57:00.286782Z",
          "shell.execute_reply": "2021-09-29T08:57:00.289918Z"
        },
        "trusted": true,
        "id": "MX7DsEmOx5Ud"
      },
      "source": [
        "model_checkpoint = \"Helsinki-NLP/opus-mt-en-ro\""
      ],
      "execution_count": null,
      "outputs": []
    },
    {
      "cell_type": "code",
      "metadata": {
        "execution": {
          "iopub.status.busy": "2021-09-29T08:57:00.292918Z",
          "iopub.execute_input": "2021-09-29T08:57:00.293349Z",
          "iopub.status.idle": "2021-09-29T08:57:05.139984Z",
          "shell.execute_reply.started": "2021-09-29T08:57:00.293314Z",
          "shell.execute_reply": "2021-09-29T08:57:05.139187Z"
        },
        "trusted": true,
        "colab": {
          "base_uri": "https://localhost:8080/",
          "height": 424,
          "referenced_widgets": [
            "34fd15427c7d4f4189c9ce38924107b5",
            "04672fbdc8754babbb7bb3bfb7bcfd2e",
            "53ec358cc4784c25a50e17bd8764fd56",
            "c916612f156b457f828410fdc85c8def",
            "de1e4b0f94f74b4380de2cb4447352f1",
            "c04bdf05ef684c8fb12ea45833394e77",
            "ed5983a37cba4faea852cf2e13b355b4",
            "f8f12dcd6d164513bae3d4d7835cc45e",
            "adbad0b85f78492583b2c5b291341030",
            "a9aa1538562840f2b969340f1cbf8bbb",
            "5600aa1b802c46b183417910f0e18cc4",
            "fd705f2d192c41f8bbbf5c6270e6ffb0",
            "d8499a1a46144034b56489025aaee86f",
            "b982f93475414c0c8a92601717138dc4",
            "98b513fb020744bfbbe0678daa33f2aa",
            "4295f3dc0a494198b776f682b327924d",
            "17ecb55f59dd411084d8692b80cc8cad",
            "a434f279213545da8a92da73bc320504",
            "e1d75f47a76d4bf8b2941fe543e46242",
            "0c2955e8cff44b5ba998ca584e485e54",
            "eb10554a79a04ecf92517ba96ca956d9",
            "ad65c758c1114adab13e6dbf29f660aa",
            "e3ada02e2bf34b5699475b1eb7801282",
            "9c9af690e08d490dbba5524e35fa6fcb",
            "c5d0a0ee946745609e561ffece8cde76",
            "9d13fcfc7b4e4ef182ef48df08253af4",
            "88c725d411d34463b632ec85fa67ed4a",
            "c4298a4942db4790a357a342c7cc13e7",
            "4d9080a460f34c8abdb3af1fdf0eddce",
            "a8744f13ff43450db14031275a7ba769",
            "edf107491f434e7486765ebda2ad938e",
            "922bfc020eb345c584ab31721a10922c",
            "f9c351511a33475d993fee0d6c1cddba",
            "4b5219e4a1a1400a982acc3065b46e2c"
          ]
        },
        "id": "biPo8vFTx5Ue",
        "outputId": "402f80b1-801c-4452-f502-dfcb9d9e9326"
      },
      "source": [
        "from datasets import load_dataset, load_metric\n",
        "raw_datasets = load_dataset(\"wmt16\", \"ro-en\")\n",
        "metric = load_metric(\"sacrebleu\")"
      ],
      "execution_count": null,
      "outputs": [
        {
          "output_type": "display_data",
          "data": {
            "application/vnd.jupyter.widget-view+json": {
              "model_id": "34fd15427c7d4f4189c9ce38924107b5",
              "version_minor": 0,
              "version_major": 2
            },
            "text/plain": [
              "Downloading:   0%|          | 0.00/1.41k [00:00<?, ?B/s]"
            ]
          },
          "metadata": {}
        },
        {
          "output_type": "display_data",
          "data": {
            "application/vnd.jupyter.widget-view+json": {
              "model_id": "fd705f2d192c41f8bbbf5c6270e6ffb0",
              "version_minor": 0,
              "version_major": 2
            },
            "text/plain": [
              "Downloading:   0%|          | 0.00/1.52k [00:00<?, ?B/s]"
            ]
          },
          "metadata": {}
        },
        {
          "output_type": "display_data",
          "data": {
            "application/vnd.jupyter.widget-view+json": {
              "model_id": "e3ada02e2bf34b5699475b1eb7801282",
              "version_minor": 0,
              "version_major": 2
            },
            "text/plain": [
              "Downloading:   0%|          | 0.00/8.69k [00:00<?, ?B/s]"
            ]
          },
          "metadata": {}
        },
        {
          "output_type": "stream",
          "name": "stdout",
          "text": [
            "Downloading and preparing dataset wmt16/ro-en to /root/.cache/huggingface/datasets/wmt16/ro-en/1.0.0/0d9fb3e814712c785176ad8cdb9f465fbe6479000ee6546725db30ad8a8b5f8a...\n"
          ]
        },
        {
          "output_type": "display_data",
          "data": {
            "application/vnd.jupyter.widget-view+json": {
              "model_id": "9c9af690e08d490dbba5524e35fa6fcb",
              "version_minor": 0,
              "version_major": 2
            },
            "text/plain": [
              "  0%|          | 0/4 [00:00<?, ?it/s]"
            ]
          },
          "metadata": {}
        },
        {
          "output_type": "display_data",
          "data": {
            "application/vnd.jupyter.widget-view+json": {
              "model_id": "c5d0a0ee946745609e561ffece8cde76",
              "version_minor": 0,
              "version_major": 2
            },
            "text/plain": [
              "Downloading:   0%|          | 0.00/225M [00:00<?, ?B/s]"
            ]
          },
          "metadata": {}
        },
        {
          "output_type": "display_data",
          "data": {
            "application/vnd.jupyter.widget-view+json": {
              "model_id": "9d13fcfc7b4e4ef182ef48df08253af4",
              "version_minor": 0,
              "version_major": 2
            },
            "text/plain": [
              "Downloading:   0%|          | 0.00/23.5M [00:00<?, ?B/s]"
            ]
          },
          "metadata": {}
        },
        {
          "output_type": "display_data",
          "data": {
            "application/vnd.jupyter.widget-view+json": {
              "model_id": "88c725d411d34463b632ec85fa67ed4a",
              "version_minor": 0,
              "version_major": 2
            },
            "text/plain": [
              "Downloading:   0%|          | 0.00/38.7M [00:00<?, ?B/s]"
            ]
          },
          "metadata": {}
        },
        {
          "output_type": "display_data",
          "data": {
            "application/vnd.jupyter.widget-view+json": {
              "model_id": "c4298a4942db4790a357a342c7cc13e7",
              "version_minor": 0,
              "version_major": 2
            },
            "text/plain": [
              "  0%|          | 0/4 [00:00<?, ?it/s]"
            ]
          },
          "metadata": {}
        },
        {
          "output_type": "display_data",
          "data": {
            "application/vnd.jupyter.widget-view+json": {
              "model_id": "4d9080a460f34c8abdb3af1fdf0eddce",
              "version_minor": 0,
              "version_major": 2
            },
            "text/plain": [
              "0it [00:00, ?it/s]"
            ]
          },
          "metadata": {}
        },
        {
          "output_type": "display_data",
          "data": {
            "application/vnd.jupyter.widget-view+json": {
              "model_id": "a8744f13ff43450db14031275a7ba769",
              "version_minor": 0,
              "version_major": 2
            },
            "text/plain": [
              "0 examples [00:00, ? examples/s]"
            ]
          },
          "metadata": {}
        },
        {
          "output_type": "display_data",
          "data": {
            "application/vnd.jupyter.widget-view+json": {
              "model_id": "edf107491f434e7486765ebda2ad938e",
              "version_minor": 0,
              "version_major": 2
            },
            "text/plain": [
              "0 examples [00:00, ? examples/s]"
            ]
          },
          "metadata": {}
        },
        {
          "output_type": "display_data",
          "data": {
            "application/vnd.jupyter.widget-view+json": {
              "model_id": "922bfc020eb345c584ab31721a10922c",
              "version_minor": 0,
              "version_major": 2
            },
            "text/plain": [
              "0 examples [00:00, ? examples/s]"
            ]
          },
          "metadata": {}
        },
        {
          "output_type": "stream",
          "name": "stdout",
          "text": [
            "Dataset wmt16 downloaded and prepared to /root/.cache/huggingface/datasets/wmt16/ro-en/1.0.0/0d9fb3e814712c785176ad8cdb9f465fbe6479000ee6546725db30ad8a8b5f8a. Subsequent calls will reuse this data.\n"
          ]
        },
        {
          "output_type": "display_data",
          "data": {
            "application/vnd.jupyter.widget-view+json": {
              "model_id": "f9c351511a33475d993fee0d6c1cddba",
              "version_minor": 0,
              "version_major": 2
            },
            "text/plain": [
              "  0%|          | 0/3 [00:00<?, ?it/s]"
            ]
          },
          "metadata": {}
        },
        {
          "output_type": "display_data",
          "data": {
            "application/vnd.jupyter.widget-view+json": {
              "model_id": "4b5219e4a1a1400a982acc3065b46e2c",
              "version_minor": 0,
              "version_major": 2
            },
            "text/plain": [
              "Downloading:   0%|          | 0.00/2.37k [00:00<?, ?B/s]"
            ]
          },
          "metadata": {}
        }
      ]
    },
    {
      "cell_type": "code",
      "metadata": {
        "execution": {
          "iopub.status.busy": "2021-09-29T08:57:05.146588Z",
          "iopub.execute_input": "2021-09-29T08:57:05.147453Z",
          "iopub.status.idle": "2021-09-29T08:57:05.159295Z",
          "shell.execute_reply.started": "2021-09-29T08:57:05.147411Z",
          "shell.execute_reply": "2021-09-29T08:57:05.158274Z"
        },
        "trusted": true,
        "colab": {
          "base_uri": "https://localhost:8080/"
        },
        "id": "379sQa4Ix5Uf",
        "outputId": "8d3baded-0cec-4bbf-fdc4-cdcc7944ee9d"
      },
      "source": [
        "raw_datasets"
      ],
      "execution_count": null,
      "outputs": [
        {
          "output_type": "execute_result",
          "data": {
            "text/plain": [
              "DatasetDict({\n",
              "    train: Dataset({\n",
              "        features: ['translation'],\n",
              "        num_rows: 610320\n",
              "    })\n",
              "    validation: Dataset({\n",
              "        features: ['translation'],\n",
              "        num_rows: 1999\n",
              "    })\n",
              "    test: Dataset({\n",
              "        features: ['translation'],\n",
              "        num_rows: 1999\n",
              "    })\n",
              "})"
            ]
          },
          "metadata": {},
          "execution_count": 7
        }
      ]
    },
    {
      "cell_type": "code",
      "metadata": {
        "execution": {
          "iopub.status.busy": "2021-09-29T08:57:05.160565Z",
          "iopub.execute_input": "2021-09-29T08:57:05.160765Z",
          "iopub.status.idle": "2021-09-29T08:57:05.173150Z",
          "shell.execute_reply.started": "2021-09-29T08:57:05.160744Z",
          "shell.execute_reply": "2021-09-29T08:57:05.172261Z"
        },
        "trusted": true,
        "colab": {
          "base_uri": "https://localhost:8080/"
        },
        "id": "Nkiu4ITXx5Ug",
        "outputId": "1eb6d334-c138-4ddb-c625-9a7f817fdb2a"
      },
      "source": [
        "raw_datasets[\"train\"][0]"
      ],
      "execution_count": null,
      "outputs": [
        {
          "output_type": "execute_result",
          "data": {
            "text/plain": [
              "{'translation': {'en': 'Membership of Parliament: see Minutes',\n",
              "  'ro': 'Componenţa Parlamentului: a se vedea procesul-verbal'}}"
            ]
          },
          "metadata": {},
          "execution_count": 8
        }
      ]
    },
    {
      "cell_type": "code",
      "metadata": {
        "execution": {
          "iopub.status.busy": "2021-09-29T08:57:05.175034Z",
          "iopub.execute_input": "2021-09-29T08:57:05.175980Z",
          "iopub.status.idle": "2021-09-29T08:57:05.225540Z",
          "shell.execute_reply.started": "2021-09-29T08:57:05.175943Z",
          "shell.execute_reply": "2021-09-29T08:57:05.224872Z"
        },
        "trusted": true,
        "colab": {
          "base_uri": "https://localhost:8080/",
          "height": 345
        },
        "id": "1OE_CXoxx5Uh",
        "outputId": "c25cfc10-df85-49b7-bd06-524ce871ba9d"
      },
      "source": [
        "import datasets\n",
        "import random\n",
        "import pandas as pd\n",
        "from IPython.display import display, HTML\n",
        "def show_random_elements(dataset, num_examples=5):\n",
        "    assert num_examples <= len(dataset), \"Can't pick more elements than there are in the dataset.\"\n",
        "    picks = []\n",
        "    for _ in range(num_examples):\n",
        "        pick = random.randint(0, len(dataset)-1)\n",
        "        while pick in picks:\n",
        "            pick = random.randint(0, len(dataset)-1)\n",
        "        picks.append(pick)\n",
        "\n",
        "    df = pd.DataFrame(dataset[picks])\n",
        "    for column, typ in dataset.features.items():\n",
        "        if isinstance(typ, datasets.ClassLabel):\n",
        "            df[column] = df[column].transform(lambda i: typ.names[i])\n",
        "    display(HTML(df.to_html()))\n",
        "show_random_elements(raw_datasets[\"train\"])"
      ],
      "execution_count": null,
      "outputs": [
        {
          "output_type": "display_data",
          "data": {
            "text/html": [
              "<table border=\"1\" class=\"dataframe\">\n",
              "  <thead>\n",
              "    <tr style=\"text-align: right;\">\n",
              "      <th></th>\n",
              "      <th>translation</th>\n",
              "    </tr>\n",
              "  </thead>\n",
              "  <tbody>\n",
              "    <tr>\n",
              "      <th>0</th>\n",
              "      <td>{'en': 'I think that it is a slight understatement, Mr President, when you say that it is an honour for you to take up the position to which we have elected you today.', 'ro': 'Cred că este o uşoară dovadă de modestie, dle Preşedinte, când spuneţi că este o onoare pentru dvs. să preluaţi poziţia în care aţi fost ales astăzi.'}</td>\n",
              "    </tr>\n",
              "    <tr>\n",
              "      <th>1</th>\n",
              "      <td>{'en': 'What advice would you give to the Slovak Prime Minister Fico, who now faces a 'Sophie's Choice'?', 'ro': 'Ce sfaturi i-ați da Prim Ministrului slovac Fico, care se confruntă acum cu o \"Alegere a Sofiei\"?'}</td>\n",
              "    </tr>\n",
              "    <tr>\n",
              "      <th>2</th>\n",
              "      <td>{'en': 'Cesare Battisti is a convicted murderer in Italy, and the stance taken by the Brazilian authorities to protect him from the reach of EU justice is not only unacceptable but also condemnable and deplorable in the strongest possible terms and we, and any other authority and any other body in the EU, have every right to say so.', 'ro': 'Cesare Battisti este un criminal condamnat în Italia, iar poziţia adoptată de autorităţile braziliene de a-l proteja de braţul justiţiei din UE nu este doar inacceptabilă, ci şi regretabilă şi condamnabilă cu cea mai mare fermitate, iar noi, la fel ca orice altă autoritate sau organism al UE, avem tot dreptul să o spunem.'}</td>\n",
              "    </tr>\n",
              "    <tr>\n",
              "      <th>3</th>\n",
              "      <td>{'en': 'Oprisan has said he would like to see someone new at the party helm -- for example, former Foreign Minister Mircea Geoana, former Transportation Minister Miron Mitrea, former Defence Minister Ioan Mircea Pascu or former Justice Minister Cristian Diaconescu.', 'ro': 'Oprişan a afirmat că ar dori pe cineva nou la conducerea partidului -- de exemplu, fostul ministru de externe Mircea Geoană, fostul ministru al transporturilor Miron Mitrea, fostul ministru al apărării Ioan Mircea Paşcu sau fostul ministru al justiţiei Cristian Diaconescu.'}</td>\n",
              "    </tr>\n",
              "    <tr>\n",
              "      <th>4</th>\n",
              "      <td>{'en': 'Their businesses need access to clear legislation and their consumers need to have access to a wider range of goods at more competitive prices.', 'ro': 'Afacerile lor au nevoie de acces la o legislație clară, iar consumatorii lor trebuie să aibă acces la o gamă mai largă de bunuri la prețuri mai competitive.'}</td>\n",
              "    </tr>\n",
              "  </tbody>\n",
              "</table>"
            ],
            "text/plain": [
              "<IPython.core.display.HTML object>"
            ]
          },
          "metadata": {}
        }
      ]
    },
    {
      "cell_type": "code",
      "metadata": {
        "execution": {
          "iopub.status.busy": "2021-09-29T08:57:05.227184Z",
          "iopub.execute_input": "2021-09-29T08:57:05.227903Z",
          "iopub.status.idle": "2021-09-29T08:57:05.234679Z",
          "shell.execute_reply.started": "2021-09-29T08:57:05.227867Z",
          "shell.execute_reply": "2021-09-29T08:57:05.233826Z"
        },
        "trusted": true,
        "colab": {
          "base_uri": "https://localhost:8080/"
        },
        "id": "oAHbdQH5x5Ui",
        "outputId": "7db0caa9-0fba-43dd-85c6-08d7eecd1c57"
      },
      "source": [
        "metric"
      ],
      "execution_count": null,
      "outputs": [
        {
          "output_type": "execute_result",
          "data": {
            "text/plain": [
              "Metric(name: \"sacrebleu\", features: {'predictions': Value(dtype='string', id='sequence'), 'references': Sequence(feature=Value(dtype='string', id='sequence'), length=-1, id='references')}, usage: \"\"\"\n",
              "Produces BLEU scores along with its sufficient statistics\n",
              "from a source against one or more references.\n",
              "\n",
              "Args:\n",
              "    predictions: The system stream (a sequence of segments).\n",
              "    references: A list of one or more reference streams (each a sequence of segments).\n",
              "    smooth_method: The smoothing method to use. (Default: 'exp').\n",
              "    smooth_value: The smoothing value. Only valid for 'floor' and 'add-k'. (Defaults: floor: 0.1, add-k: 1).\n",
              "    tokenize: Tokenization method to use for BLEU. If not provided, defaults to 'zh' for Chinese, 'ja-mecab' for\n",
              "        Japanese and '13a' (mteval) otherwise.\n",
              "    lowercase: Lowercase the data. If True, enables case-insensitivity. (Default: False).\n",
              "    force: Insist that your tokenized input is actually detokenized.\n",
              "\n",
              "Returns:\n",
              "    'score': BLEU score,\n",
              "    'counts': Counts,\n",
              "    'totals': Totals,\n",
              "    'precisions': Precisions,\n",
              "    'bp': Brevity penalty,\n",
              "    'sys_len': predictions length,\n",
              "    'ref_len': reference length,\n",
              "\n",
              "Examples:\n",
              "\n",
              "    >>> predictions = [\"hello there general kenobi\", \"foo bar foobar\"]\n",
              "    >>> references = [[\"hello there general kenobi\", \"hello there !\"], [\"foo bar foobar\", \"foo bar foobar\"]]\n",
              "    >>> sacrebleu = datasets.load_metric(\"sacrebleu\")\n",
              "    >>> results = sacrebleu.compute(predictions=predictions, references=references)\n",
              "    >>> print(list(results.keys()))\n",
              "    ['score', 'counts', 'totals', 'precisions', 'bp', 'sys_len', 'ref_len']\n",
              "    >>> print(round(results[\"score\"], 1))\n",
              "    100.0\n",
              "\"\"\", stored examples: 0)"
            ]
          },
          "metadata": {},
          "execution_count": 10
        }
      ]
    },
    {
      "cell_type": "code",
      "metadata": {
        "execution": {
          "iopub.status.busy": "2021-09-29T08:57:05.238213Z",
          "iopub.execute_input": "2021-09-29T08:57:05.239214Z",
          "iopub.status.idle": "2021-09-29T08:57:05.262753Z",
          "shell.execute_reply.started": "2021-09-29T08:57:05.239178Z",
          "shell.execute_reply": "2021-09-29T08:57:05.262047Z"
        },
        "trusted": true,
        "colab": {
          "base_uri": "https://localhost:8080/"
        },
        "id": "G24hShAwx5Uj",
        "outputId": "163c8294-85e6-4fc5-ff66-3f6cc62affe5"
      },
      "source": [
        "fake_preds = [\"hello there\", \"general kenobi\"]\n",
        "fake_labels = [[\"hello there\"], [\"general kenobi\"]]\n",
        "metric.compute(predictions=fake_preds, references=fake_labels)"
      ],
      "execution_count": null,
      "outputs": [
        {
          "output_type": "execute_result",
          "data": {
            "text/plain": [
              "{'bp': 1.0,\n",
              " 'counts': [4, 2, 0, 0],\n",
              " 'precisions': [100.0, 100.0, 0.0, 0.0],\n",
              " 'ref_len': 4,\n",
              " 'score': 0.0,\n",
              " 'sys_len': 4,\n",
              " 'totals': [4, 2, 0, 0]}"
            ]
          },
          "metadata": {},
          "execution_count": 11
        }
      ]
    },
    {
      "cell_type": "code",
      "metadata": {
        "execution": {
          "iopub.status.busy": "2021-09-29T08:57:05.264428Z",
          "iopub.execute_input": "2021-09-29T08:57:05.265184Z",
          "iopub.status.idle": "2021-09-29T08:57:08.584943Z",
          "shell.execute_reply.started": "2021-09-29T08:57:05.265148Z",
          "shell.execute_reply": "2021-09-29T08:57:08.584106Z"
        },
        "trusted": true,
        "colab": {
          "base_uri": "https://localhost:8080/",
          "height": 177,
          "referenced_widgets": [
            "db4d60783a2b4cc9ac647f53524e9201",
            "23e6dd2b833d44aabc5b78a83d7ef136",
            "8aff67fa78c640bf83598dd7fccc5b97",
            "97ed312717014144af97d250fcd74d9d",
            "7b69f1226cf5457aa164146a890a2c5e",
            "d5ce787580584a40883fdac45df7917a",
            "1962a04347894250993d2eb3d2946e5c",
            "d5e1f379a1084c6e978a633698b4b02a",
            "b689909adc244204af714b9a19e158c0",
            "8c32a5f5cb724610a4ea8a5b42be5b28",
            "44db6a1a111148ceaa804f7302b0629b",
            "7e8253e0de7f426c9f9af4b15775c660",
            "adfbc16f0b6144b6ab06544ed060f8fe",
            "1425686f748e45b9921c501d0e5ce904",
            "632fb54ffc9b44b98d082d097c17d7de"
          ]
        },
        "id": "agDlgrOix5Uj",
        "outputId": "d52e9acb-10d0-464f-c9f1-1947b7a7b0e6"
      },
      "source": [
        "from transformers import AutoTokenizer\n",
        "\n",
        "tokenizer = AutoTokenizer.from_pretrained(model_checkpoint)"
      ],
      "execution_count": null,
      "outputs": [
        {
          "output_type": "display_data",
          "data": {
            "application/vnd.jupyter.widget-view+json": {
              "model_id": "db4d60783a2b4cc9ac647f53524e9201",
              "version_minor": 0,
              "version_major": 2
            },
            "text/plain": [
              "Downloading:   0%|          | 0.00/42.0 [00:00<?, ?B/s]"
            ]
          },
          "metadata": {}
        },
        {
          "output_type": "display_data",
          "data": {
            "application/vnd.jupyter.widget-view+json": {
              "model_id": "7e8253e0de7f426c9f9af4b15775c660",
              "version_minor": 0,
              "version_major": 2
            },
            "text/plain": [
              "Downloading:   0%|          | 0.00/1.11k [00:00<?, ?B/s]"
            ]
          },
          "metadata": {}
        },
        {
          "output_type": "display_data",
          "data": {
            "application/vnd.jupyter.widget-view+json": {
              "model_id": "adfbc16f0b6144b6ab06544ed060f8fe",
              "version_minor": 0,
              "version_major": 2
            },
            "text/plain": [
              "Downloading:   0%|          | 0.00/770k [00:00<?, ?B/s]"
            ]
          },
          "metadata": {}
        },
        {
          "output_type": "display_data",
          "data": {
            "application/vnd.jupyter.widget-view+json": {
              "model_id": "1425686f748e45b9921c501d0e5ce904",
              "version_minor": 0,
              "version_major": 2
            },
            "text/plain": [
              "Downloading:   0%|          | 0.00/798k [00:00<?, ?B/s]"
            ]
          },
          "metadata": {}
        },
        {
          "output_type": "display_data",
          "data": {
            "application/vnd.jupyter.widget-view+json": {
              "model_id": "632fb54ffc9b44b98d082d097c17d7de",
              "version_minor": 0,
              "version_major": 2
            },
            "text/plain": [
              "Downloading:   0%|          | 0.00/1.33M [00:00<?, ?B/s]"
            ]
          },
          "metadata": {}
        }
      ]
    },
    {
      "cell_type": "code",
      "metadata": {
        "execution": {
          "iopub.status.busy": "2021-09-29T08:57:08.586536Z",
          "iopub.execute_input": "2021-09-29T08:57:08.586825Z",
          "iopub.status.idle": "2021-09-29T08:57:08.595450Z",
          "shell.execute_reply.started": "2021-09-29T08:57:08.586787Z",
          "shell.execute_reply": "2021-09-29T08:57:08.594622Z"
        },
        "trusted": true,
        "colab": {
          "base_uri": "https://localhost:8080/"
        },
        "id": "j9XTBM27x5Uk",
        "outputId": "2bd42d79-8437-41b1-e1b4-80723a18f614"
      },
      "source": [
        "tokenizer([\"Hello, this one sentence!\", \"This is another sentence.\"])"
      ],
      "execution_count": null,
      "outputs": [
        {
          "output_type": "execute_result",
          "data": {
            "text/plain": [
              "{'input_ids': [[125, 778, 3, 63, 141, 9191, 23, 0], [187, 32, 716, 9191, 2, 0]], 'attention_mask': [[1, 1, 1, 1, 1, 1, 1, 1], [1, 1, 1, 1, 1, 1]]}"
            ]
          },
          "metadata": {},
          "execution_count": 13
        }
      ]
    },
    {
      "cell_type": "code",
      "metadata": {
        "execution": {
          "iopub.status.busy": "2021-09-29T08:57:08.597236Z",
          "iopub.execute_input": "2021-09-29T08:57:08.597782Z",
          "iopub.status.idle": "2021-09-29T08:57:08.605966Z",
          "shell.execute_reply.started": "2021-09-29T08:57:08.597745Z",
          "shell.execute_reply": "2021-09-29T08:57:08.605056Z"
        },
        "trusted": true,
        "colab": {
          "base_uri": "https://localhost:8080/"
        },
        "id": "qvYg6BXJx5Ul",
        "outputId": "06d8f836-7a16-4fdc-a23e-9d0973135a55"
      },
      "source": [
        "with tokenizer.as_target_tokenizer():\n",
        "    print(tokenizer([\"Hello, this one sentence!\", \"This is another sentence.\"]))"
      ],
      "execution_count": null,
      "outputs": [
        {
          "output_type": "stream",
          "name": "stdout",
          "text": [
            "{'input_ids': [[10334, 1204, 3, 15, 8915, 27, 452, 59, 29579, 581, 23, 0], [235, 1705, 11, 32, 8, 1205, 5305, 59, 29579, 581, 2, 0]], 'attention_mask': [[1, 1, 1, 1, 1, 1, 1, 1, 1, 1, 1, 1], [1, 1, 1, 1, 1, 1, 1, 1, 1, 1, 1, 1]]}\n"
          ]
        }
      ]
    },
    {
      "cell_type": "code",
      "metadata": {
        "execution": {
          "iopub.status.busy": "2021-09-29T08:57:08.607739Z",
          "iopub.execute_input": "2021-09-29T08:57:08.608929Z",
          "iopub.status.idle": "2021-09-29T08:57:08.618192Z",
          "shell.execute_reply.started": "2021-09-29T08:57:08.608897Z",
          "shell.execute_reply": "2021-09-29T08:57:08.617265Z"
        },
        "trusted": true,
        "id": "e1fnOpO6x5Um"
      },
      "source": [
        "prefix = \"\"\n",
        "max_input_length = 128\n",
        "max_target_length = 128\n",
        "source_lang = \"en\"\n",
        "target_lang = \"ro\"\n",
        "def preprocess_function(examples):\n",
        "    inputs = [prefix + ex[source_lang] for ex in examples[\"translation\"]]\n",
        "    targets = [ex[target_lang] for ex in examples[\"translation\"]]\n",
        "    model_inputs = tokenizer(inputs, max_length=max_input_length, truncation=True)\n",
        "    # Setup the tokenizer for targets\n",
        "    with tokenizer.as_target_tokenizer():\n",
        "        labels = tokenizer(targets, max_length=max_target_length, truncation=True)\n",
        "    model_inputs[\"labels\"] = labels[\"input_ids\"]\n",
        "    return model_inputs"
      ],
      "execution_count": null,
      "outputs": []
    },
    {
      "cell_type": "code",
      "metadata": {
        "execution": {
          "iopub.status.busy": "2021-09-29T08:57:08.619715Z",
          "iopub.execute_input": "2021-09-29T08:57:08.620404Z",
          "iopub.status.idle": "2021-09-29T08:57:08.631201Z",
          "shell.execute_reply.started": "2021-09-29T08:57:08.620369Z",
          "shell.execute_reply": "2021-09-29T08:57:08.630353Z"
        },
        "trusted": true,
        "colab": {
          "base_uri": "https://localhost:8080/"
        },
        "id": "9uXJ6SFex5Un",
        "outputId": "b536ebfa-e98c-47d2-df9c-ae59689b91c2"
      },
      "source": [
        "preprocess_function(raw_datasets['train'][:2])"
      ],
      "execution_count": null,
      "outputs": [
        {
          "output_type": "execute_result",
          "data": {
            "text/plain": [
              "{'input_ids': [[393, 4462, 14, 1137, 53, 216, 28636, 0], [24385, 14, 28636, 14, 4646, 4622, 53, 216, 28636, 0]], 'attention_mask': [[1, 1, 1, 1, 1, 1, 1, 1], [1, 1, 1, 1, 1, 1, 1, 1, 1, 1]], 'labels': [[42140, 494, 1750, 53, 8, 59, 903, 3543, 9, 15202, 0], [36199, 6612, 9, 15202, 122, 568, 35788, 21549, 53, 8, 59, 903, 3543, 9, 15202, 0]]}"
            ]
          },
          "metadata": {},
          "execution_count": 16
        }
      ]
    },
    {
      "cell_type": "code",
      "metadata": {
        "execution": {
          "iopub.status.busy": "2021-09-29T08:57:08.633273Z",
          "iopub.execute_input": "2021-09-29T08:57:08.633591Z",
          "iopub.status.idle": "2021-09-29T08:57:11.523108Z",
          "shell.execute_reply.started": "2021-09-29T08:57:08.633559Z",
          "shell.execute_reply": "2021-09-29T08:57:11.522369Z"
        },
        "trusted": true,
        "colab": {
          "base_uri": "https://localhost:8080/",
          "height": 113,
          "referenced_widgets": [
            "f56b5b8abcfc415fbf46ca0f2fe619d0",
            "ef09f1189d75431591bebf33d288dacc",
            "12e50a27f9f24575bd86305f3b609095",
            "24cc9a4f2e4a411296dd6822329e5815",
            "f83d5ec459fe4dfd9ebf46fcca9895ee",
            "382f2bc5fc944482861293a496fb03ed",
            "330c9a9e97c9436f9d29bb12c586253a",
            "af955c59afc54adc8f1072d371b688bc",
            "5b4edc877e524610bb9ecc8103763250",
            "d3190da3507f4ab4be03027179566508",
            "7dac8e5e55ce4e638942c4299b377e3a",
            "41467eb21e744e66a47790e274defb66",
            "c0e50be8469a429fb8852fe3eb3a2ede"
          ]
        },
        "id": "uZlsJFZnx5Uo",
        "outputId": "e39c565b-e6cb-489b-a5ca-a565624b89cf"
      },
      "source": [
        "tokenized_datasets = raw_datasets.map(preprocess_function, batched=True)"
      ],
      "execution_count": null,
      "outputs": [
        {
          "output_type": "display_data",
          "data": {
            "application/vnd.jupyter.widget-view+json": {
              "model_id": "f56b5b8abcfc415fbf46ca0f2fe619d0",
              "version_minor": 0,
              "version_major": 2
            },
            "text/plain": [
              "  0%|          | 0/611 [00:00<?, ?ba/s]"
            ]
          },
          "metadata": {}
        },
        {
          "output_type": "display_data",
          "data": {
            "application/vnd.jupyter.widget-view+json": {
              "model_id": "41467eb21e744e66a47790e274defb66",
              "version_minor": 0,
              "version_major": 2
            },
            "text/plain": [
              "  0%|          | 0/2 [00:00<?, ?ba/s]"
            ]
          },
          "metadata": {}
        },
        {
          "output_type": "display_data",
          "data": {
            "application/vnd.jupyter.widget-view+json": {
              "model_id": "c0e50be8469a429fb8852fe3eb3a2ede",
              "version_minor": 0,
              "version_major": 2
            },
            "text/plain": [
              "  0%|          | 0/2 [00:00<?, ?ba/s]"
            ]
          },
          "metadata": {}
        }
      ]
    },
    {
      "cell_type": "markdown",
      "source": [
        "Fine Tuning the Model"
      ],
      "metadata": {
        "id": "FtGDGbLANjWl"
      }
    },
    {
      "cell_type": "code",
      "metadata": {
        "execution": {
          "iopub.status.busy": "2021-09-29T08:57:11.527425Z",
          "iopub.execute_input": "2021-09-29T08:57:11.528330Z",
          "iopub.status.idle": "2021-09-29T08:57:22.585417Z",
          "shell.execute_reply.started": "2021-09-29T08:57:11.528289Z",
          "shell.execute_reply": "2021-09-29T08:57:22.584582Z"
        },
        "trusted": true,
        "colab": {
          "base_uri": "https://localhost:8080/",
          "height": 49,
          "referenced_widgets": [
            "001c2cf8d21d4703bc190149a82d06ab",
            "c8c29e7a13804b6c9e97c3ff425bd81d",
            "13c6c16b336c404fa84cba2ee42debde",
            "31bbbf7e34a14335b628add663c71642",
            "a23d83e9f0ea4ac8b57ec5f1614414dc",
            "ae117dc6e1fb41eca964e34601c6aa6c",
            "7616cd08bb494b8f988b9e893bb8bb25",
            "064aa5db0924410bb17646220304faea",
            "c0e574d69ffb426b87d3445d26e02926",
            "c2c7fbedceba45aa822c96d7f1cb6134",
            "48eb8b6feb8a47b79fbd924a7a5c6df1"
          ]
        },
        "id": "IvrIjd-Lx5Uq",
        "outputId": "07457f36-49c9-419d-b0cc-dbe8429c401a"
      },
      "source": [
        "from transformers import AutoModelForSeq2SeqLM, DataCollatorForSeq2Seq, Seq2SeqTrainingArguments, Seq2SeqTrainer\n",
        "model = AutoModelForSeq2SeqLM.from_pretrained(model_checkpoint)"
      ],
      "execution_count": null,
      "outputs": [
        {
          "output_type": "display_data",
          "data": {
            "application/vnd.jupyter.widget-view+json": {
              "model_id": "001c2cf8d21d4703bc190149a82d06ab",
              "version_minor": 0,
              "version_major": 2
            },
            "text/plain": [
              "Downloading:   0%|          | 0.00/287M [00:00<?, ?B/s]"
            ]
          },
          "metadata": {}
        }
      ]
    },
    {
      "cell_type": "code",
      "metadata": {
        "execution": {
          "iopub.status.busy": "2021-09-29T08:57:22.586787Z",
          "iopub.execute_input": "2021-09-29T08:57:22.587052Z",
          "iopub.status.idle": "2021-09-29T08:57:22.635312Z",
          "shell.execute_reply.started": "2021-09-29T08:57:22.587019Z",
          "shell.execute_reply": "2021-09-29T08:57:22.634585Z"
        },
        "trusted": true,
        "colab": {
          "base_uri": "https://localhost:8080/"
        },
        "id": "qk2p1KEwx5Ur",
        "outputId": "28118e90-17a6-460a-8694-3b50cc6660c5"
      },
      "source": [
        "batch_size = 16\n",
        "model_name = model_checkpoint.split(\"/\")[-1]\n",
        "args = Seq2SeqTrainingArguments(\n",
        "    f\"{model_name}-finetuned-{source_lang}-to-{target_lang}\",\n",
        "    evaluation_strategy = \"epoch\",\n",
        "    learning_rate=2e-5,\n",
        "    per_device_train_batch_size=batch_size,\n",
        "    per_device_eval_batch_size=batch_size,\n",
        "    weight_decay=0.01,\n",
        "    save_total_limit=3,\n",
        "    num_train_epochs=1,\n",
        "    predict_with_generate=True\n",
        ")"
      ],
      "execution_count": null,
      "outputs": [
        {
          "output_type": "stream",
          "name": "stderr",
          "text": [
            "Using the `WAND_DISABLED` environment variable is deprecated and will be removed in v5. Use the --report_to flag to control the integrations used for logging result (for instance --report_to none).\n"
          ]
        }
      ]
    },
    {
      "cell_type": "code",
      "metadata": {
        "id": "Oat3xRW7Mgv6",
        "colab": {
          "base_uri": "https://localhost:8080/"
        },
        "outputId": "9510456b-f3a6-4689-cd4c-c3a9e915e8b3"
      },
      "source": [
        "from google.colab import drive\n",
        "drive.mount('/content/drive')"
      ],
      "execution_count": null,
      "outputs": [
        {
          "output_type": "stream",
          "name": "stdout",
          "text": [
            "Mounted at /content/drive\n"
          ]
        }
      ]
    },
    {
      "cell_type": "code",
      "metadata": {
        "execution": {
          "iopub.status.busy": "2021-09-29T08:57:22.636796Z",
          "iopub.execute_input": "2021-09-29T08:57:22.637140Z",
          "iopub.status.idle": "2021-09-29T08:57:22.644241Z",
          "shell.execute_reply.started": "2021-09-29T08:57:22.637105Z",
          "shell.execute_reply": "2021-09-29T08:57:22.643139Z"
        },
        "trusted": true,
        "id": "qV9wfuvZx5Us"
      },
      "source": [
        "data_collator = DataCollatorForSeq2Seq(tokenizer, model=model)"
      ],
      "execution_count": null,
      "outputs": []
    },
    {
      "cell_type": "code",
      "metadata": {
        "execution": {
          "iopub.status.busy": "2021-09-29T08:57:22.646196Z",
          "iopub.execute_input": "2021-09-29T08:57:22.646446Z",
          "iopub.status.idle": "2021-09-29T08:57:22.658436Z",
          "shell.execute_reply.started": "2021-09-29T08:57:22.646415Z",
          "shell.execute_reply": "2021-09-29T08:57:22.657573Z"
        },
        "trusted": true,
        "id": "mHqp_FFhx5Uu"
      },
      "source": [
        "import numpy as np\n",
        "def postprocess_text(preds, labels):\n",
        "    preds = [pred.strip() for pred in preds]\n",
        "    labels = [[label.strip()] for label in labels]\n",
        "    return preds, labels\n",
        "def compute_metrics(eval_preds):\n",
        "    preds, labels = eval_preds\n",
        "    if isinstance(preds, tuple):\n",
        "        preds = preds[0]\n",
        "    decoded_preds = tokenizer.batch_decode(preds, skip_special_tokens=True)\n",
        "    # Replace -100 in the labels as we can't decode them.\n",
        "    labels = np.where(labels != -100, labels, tokenizer.pad_token_id)\n",
        "    decoded_labels = tokenizer.batch_decode(labels, skip_special_tokens=True)\n",
        "    # Some simple post-processing\n",
        "    decoded_preds, decoded_labels = postprocess_text(decoded_preds, decoded_labels)\n",
        "    result = metric.compute(predictions=decoded_preds, references=decoded_labels)\n",
        "    result = {\"bleu\": result[\"score\"]}\n",
        "    prediction_lens = [np.count_nonzero(pred != tokenizer.pad_token_id) for pred in preds]\n",
        "    result[\"gen_len\"] = np.mean(prediction_lens)\n",
        "    result = {k: round(v, 4) for k, v in result.items()}\n",
        "    return result"
      ],
      "execution_count": null,
      "outputs": []
    },
    {
      "cell_type": "code",
      "metadata": {
        "execution": {
          "iopub.status.busy": "2021-09-29T08:57:22.660242Z",
          "iopub.execute_input": "2021-09-29T08:57:22.660603Z",
          "iopub.status.idle": "2021-09-29T08:57:27.828358Z",
          "shell.execute_reply.started": "2021-09-29T08:57:22.660567Z",
          "shell.execute_reply": "2021-09-29T08:57:27.827587Z"
        },
        "trusted": true,
        "id": "c7zuF8rLx5Uy"
      },
      "source": [
        "trainer = Seq2SeqTrainer(\n",
        "    model,\n",
        "    args,\n",
        "    train_dataset=tokenized_datasets[\"train\"],\n",
        "    eval_dataset=tokenized_datasets[\"validation\"],\n",
        "    data_collator=data_collator,\n",
        "    tokenizer=tokenizer,\n",
        "    compute_metrics=compute_metrics\n",
        ")"
      ],
      "execution_count": null,
      "outputs": []
    },
    {
      "cell_type": "code",
      "metadata": {
        "execution": {
          "iopub.status.busy": "2021-09-29T08:57:27.830391Z",
          "iopub.execute_input": "2021-09-29T08:57:27.830598Z",
          "iopub.status.idle": "2021-09-29T12:56:49.229770Z",
          "shell.execute_reply.started": "2021-09-29T08:57:27.830575Z",
          "shell.execute_reply": "2021-09-29T12:56:49.228818Z"
        },
        "trusted": true,
        "colab": {
          "base_uri": "https://localhost:8080/",
          "height": 1000
        },
        "id": "sonIRAfDx5Uz",
        "outputId": "8a0bc390-6900-424c-f92e-e3a841ead986"
      },
      "source": [
        "trainer.train()"
      ],
      "execution_count": null,
      "outputs": [
        {
          "output_type": "stream",
          "name": "stderr",
          "text": [
            "The following columns in the training set  don't have a corresponding argument in `MarianMTModel.forward` and have been ignored: translation.\n",
            "***** Running training *****\n",
            "  Num examples = 610320\n",
            "  Num Epochs = 1\n",
            "  Instantaneous batch size per device = 16\n",
            "  Total train batch size (w. parallel, distributed & accumulation) = 16\n",
            "  Gradient Accumulation steps = 1\n",
            "  Total optimization steps = 38145\n"
          ]
        },
        {
          "output_type": "display_data",
          "data": {
            "text/html": [
              "\n",
              "    <div>\n",
              "      \n",
              "      <progress value='21279' max='38145' style='width:300px; height:20px; vertical-align: middle;'></progress>\n",
              "      [21279/38145 2:37:20 < 2:04:43, 2.25 it/s, Epoch 0.56/1]\n",
              "    </div>\n",
              "    <table border=\"1\" class=\"dataframe\">\n",
              "  <thead>\n",
              "    <tr style=\"text-align: left;\">\n",
              "      <th>Epoch</th>\n",
              "      <th>Training Loss</th>\n",
              "      <th>Validation Loss</th>\n",
              "    </tr>\n",
              "  </thead>\n",
              "  <tbody>\n",
              "  </tbody>\n",
              "</table><p>"
            ],
            "text/plain": [
              "<IPython.core.display.HTML object>"
            ]
          },
          "metadata": {}
        },
        {
          "output_type": "stream",
          "name": "stderr",
          "text": [
            "Saving model checkpoint to opus-mt-en-ro-finetuned-en-to-ro/checkpoint-500\n",
            "Configuration saved in opus-mt-en-ro-finetuned-en-to-ro/checkpoint-500/config.json\n",
            "Model weights saved in opus-mt-en-ro-finetuned-en-to-ro/checkpoint-500/pytorch_model.bin\n",
            "tokenizer config file saved in opus-mt-en-ro-finetuned-en-to-ro/checkpoint-500/tokenizer_config.json\n",
            "Special tokens file saved in opus-mt-en-ro-finetuned-en-to-ro/checkpoint-500/special_tokens_map.json\n",
            "Saving model checkpoint to opus-mt-en-ro-finetuned-en-to-ro/checkpoint-1000\n",
            "Configuration saved in opus-mt-en-ro-finetuned-en-to-ro/checkpoint-1000/config.json\n",
            "Model weights saved in opus-mt-en-ro-finetuned-en-to-ro/checkpoint-1000/pytorch_model.bin\n",
            "tokenizer config file saved in opus-mt-en-ro-finetuned-en-to-ro/checkpoint-1000/tokenizer_config.json\n",
            "Special tokens file saved in opus-mt-en-ro-finetuned-en-to-ro/checkpoint-1000/special_tokens_map.json\n",
            "Saving model checkpoint to opus-mt-en-ro-finetuned-en-to-ro/checkpoint-1500\n",
            "Configuration saved in opus-mt-en-ro-finetuned-en-to-ro/checkpoint-1500/config.json\n",
            "Model weights saved in opus-mt-en-ro-finetuned-en-to-ro/checkpoint-1500/pytorch_model.bin\n",
            "tokenizer config file saved in opus-mt-en-ro-finetuned-en-to-ro/checkpoint-1500/tokenizer_config.json\n",
            "Special tokens file saved in opus-mt-en-ro-finetuned-en-to-ro/checkpoint-1500/special_tokens_map.json\n",
            "Saving model checkpoint to opus-mt-en-ro-finetuned-en-to-ro/checkpoint-2000\n",
            "Configuration saved in opus-mt-en-ro-finetuned-en-to-ro/checkpoint-2000/config.json\n",
            "Model weights saved in opus-mt-en-ro-finetuned-en-to-ro/checkpoint-2000/pytorch_model.bin\n",
            "tokenizer config file saved in opus-mt-en-ro-finetuned-en-to-ro/checkpoint-2000/tokenizer_config.json\n",
            "Special tokens file saved in opus-mt-en-ro-finetuned-en-to-ro/checkpoint-2000/special_tokens_map.json\n",
            "Deleting older checkpoint [opus-mt-en-ro-finetuned-en-to-ro/checkpoint-500] due to args.save_total_limit\n",
            "Saving model checkpoint to opus-mt-en-ro-finetuned-en-to-ro/checkpoint-2500\n",
            "Configuration saved in opus-mt-en-ro-finetuned-en-to-ro/checkpoint-2500/config.json\n",
            "Model weights saved in opus-mt-en-ro-finetuned-en-to-ro/checkpoint-2500/pytorch_model.bin\n",
            "tokenizer config file saved in opus-mt-en-ro-finetuned-en-to-ro/checkpoint-2500/tokenizer_config.json\n",
            "Special tokens file saved in opus-mt-en-ro-finetuned-en-to-ro/checkpoint-2500/special_tokens_map.json\n",
            "Deleting older checkpoint [opus-mt-en-ro-finetuned-en-to-ro/checkpoint-1000] due to args.save_total_limit\n",
            "Saving model checkpoint to opus-mt-en-ro-finetuned-en-to-ro/checkpoint-3000\n",
            "Configuration saved in opus-mt-en-ro-finetuned-en-to-ro/checkpoint-3000/config.json\n",
            "Model weights saved in opus-mt-en-ro-finetuned-en-to-ro/checkpoint-3000/pytorch_model.bin\n",
            "tokenizer config file saved in opus-mt-en-ro-finetuned-en-to-ro/checkpoint-3000/tokenizer_config.json\n",
            "Special tokens file saved in opus-mt-en-ro-finetuned-en-to-ro/checkpoint-3000/special_tokens_map.json\n",
            "Deleting older checkpoint [opus-mt-en-ro-finetuned-en-to-ro/checkpoint-1500] due to args.save_total_limit\n",
            "Saving model checkpoint to opus-mt-en-ro-finetuned-en-to-ro/checkpoint-3500\n",
            "Configuration saved in opus-mt-en-ro-finetuned-en-to-ro/checkpoint-3500/config.json\n",
            "Model weights saved in opus-mt-en-ro-finetuned-en-to-ro/checkpoint-3500/pytorch_model.bin\n",
            "tokenizer config file saved in opus-mt-en-ro-finetuned-en-to-ro/checkpoint-3500/tokenizer_config.json\n",
            "Special tokens file saved in opus-mt-en-ro-finetuned-en-to-ro/checkpoint-3500/special_tokens_map.json\n",
            "Deleting older checkpoint [opus-mt-en-ro-finetuned-en-to-ro/checkpoint-2000] due to args.save_total_limit\n",
            "Saving model checkpoint to opus-mt-en-ro-finetuned-en-to-ro/checkpoint-4000\n",
            "Configuration saved in opus-mt-en-ro-finetuned-en-to-ro/checkpoint-4000/config.json\n",
            "Model weights saved in opus-mt-en-ro-finetuned-en-to-ro/checkpoint-4000/pytorch_model.bin\n",
            "tokenizer config file saved in opus-mt-en-ro-finetuned-en-to-ro/checkpoint-4000/tokenizer_config.json\n",
            "Special tokens file saved in opus-mt-en-ro-finetuned-en-to-ro/checkpoint-4000/special_tokens_map.json\n",
            "Deleting older checkpoint [opus-mt-en-ro-finetuned-en-to-ro/checkpoint-2500] due to args.save_total_limit\n",
            "Saving model checkpoint to opus-mt-en-ro-finetuned-en-to-ro/checkpoint-4500\n",
            "Configuration saved in opus-mt-en-ro-finetuned-en-to-ro/checkpoint-4500/config.json\n",
            "Model weights saved in opus-mt-en-ro-finetuned-en-to-ro/checkpoint-4500/pytorch_model.bin\n",
            "tokenizer config file saved in opus-mt-en-ro-finetuned-en-to-ro/checkpoint-4500/tokenizer_config.json\n",
            "Special tokens file saved in opus-mt-en-ro-finetuned-en-to-ro/checkpoint-4500/special_tokens_map.json\n",
            "Deleting older checkpoint [opus-mt-en-ro-finetuned-en-to-ro/checkpoint-3000] due to args.save_total_limit\n",
            "Saving model checkpoint to opus-mt-en-ro-finetuned-en-to-ro/checkpoint-5000\n",
            "Configuration saved in opus-mt-en-ro-finetuned-en-to-ro/checkpoint-5000/config.json\n",
            "Model weights saved in opus-mt-en-ro-finetuned-en-to-ro/checkpoint-5000/pytorch_model.bin\n",
            "tokenizer config file saved in opus-mt-en-ro-finetuned-en-to-ro/checkpoint-5000/tokenizer_config.json\n",
            "Special tokens file saved in opus-mt-en-ro-finetuned-en-to-ro/checkpoint-5000/special_tokens_map.json\n",
            "Deleting older checkpoint [opus-mt-en-ro-finetuned-en-to-ro/checkpoint-3500] due to args.save_total_limit\n",
            "Saving model checkpoint to opus-mt-en-ro-finetuned-en-to-ro/checkpoint-5500\n",
            "Configuration saved in opus-mt-en-ro-finetuned-en-to-ro/checkpoint-5500/config.json\n",
            "Model weights saved in opus-mt-en-ro-finetuned-en-to-ro/checkpoint-5500/pytorch_model.bin\n",
            "tokenizer config file saved in opus-mt-en-ro-finetuned-en-to-ro/checkpoint-5500/tokenizer_config.json\n",
            "Special tokens file saved in opus-mt-en-ro-finetuned-en-to-ro/checkpoint-5500/special_tokens_map.json\n",
            "Deleting older checkpoint [opus-mt-en-ro-finetuned-en-to-ro/checkpoint-4000] due to args.save_total_limit\n",
            "Saving model checkpoint to opus-mt-en-ro-finetuned-en-to-ro/checkpoint-6000\n",
            "Configuration saved in opus-mt-en-ro-finetuned-en-to-ro/checkpoint-6000/config.json\n",
            "Model weights saved in opus-mt-en-ro-finetuned-en-to-ro/checkpoint-6000/pytorch_model.bin\n",
            "tokenizer config file saved in opus-mt-en-ro-finetuned-en-to-ro/checkpoint-6000/tokenizer_config.json\n",
            "Special tokens file saved in opus-mt-en-ro-finetuned-en-to-ro/checkpoint-6000/special_tokens_map.json\n",
            "Deleting older checkpoint [opus-mt-en-ro-finetuned-en-to-ro/checkpoint-4500] due to args.save_total_limit\n",
            "Saving model checkpoint to opus-mt-en-ro-finetuned-en-to-ro/checkpoint-6500\n",
            "Configuration saved in opus-mt-en-ro-finetuned-en-to-ro/checkpoint-6500/config.json\n",
            "Model weights saved in opus-mt-en-ro-finetuned-en-to-ro/checkpoint-6500/pytorch_model.bin\n",
            "tokenizer config file saved in opus-mt-en-ro-finetuned-en-to-ro/checkpoint-6500/tokenizer_config.json\n",
            "Special tokens file saved in opus-mt-en-ro-finetuned-en-to-ro/checkpoint-6500/special_tokens_map.json\n",
            "Deleting older checkpoint [opus-mt-en-ro-finetuned-en-to-ro/checkpoint-5000] due to args.save_total_limit\n",
            "Saving model checkpoint to opus-mt-en-ro-finetuned-en-to-ro/checkpoint-7000\n",
            "Configuration saved in opus-mt-en-ro-finetuned-en-to-ro/checkpoint-7000/config.json\n",
            "Model weights saved in opus-mt-en-ro-finetuned-en-to-ro/checkpoint-7000/pytorch_model.bin\n",
            "tokenizer config file saved in opus-mt-en-ro-finetuned-en-to-ro/checkpoint-7000/tokenizer_config.json\n",
            "Special tokens file saved in opus-mt-en-ro-finetuned-en-to-ro/checkpoint-7000/special_tokens_map.json\n",
            "Deleting older checkpoint [opus-mt-en-ro-finetuned-en-to-ro/checkpoint-5500] due to args.save_total_limit\n",
            "Saving model checkpoint to opus-mt-en-ro-finetuned-en-to-ro/checkpoint-7500\n",
            "Configuration saved in opus-mt-en-ro-finetuned-en-to-ro/checkpoint-7500/config.json\n",
            "Model weights saved in opus-mt-en-ro-finetuned-en-to-ro/checkpoint-7500/pytorch_model.bin\n",
            "tokenizer config file saved in opus-mt-en-ro-finetuned-en-to-ro/checkpoint-7500/tokenizer_config.json\n",
            "Special tokens file saved in opus-mt-en-ro-finetuned-en-to-ro/checkpoint-7500/special_tokens_map.json\n",
            "Deleting older checkpoint [opus-mt-en-ro-finetuned-en-to-ro/checkpoint-6000] due to args.save_total_limit\n",
            "Saving model checkpoint to opus-mt-en-ro-finetuned-en-to-ro/checkpoint-8000\n",
            "Configuration saved in opus-mt-en-ro-finetuned-en-to-ro/checkpoint-8000/config.json\n",
            "Model weights saved in opus-mt-en-ro-finetuned-en-to-ro/checkpoint-8000/pytorch_model.bin\n",
            "tokenizer config file saved in opus-mt-en-ro-finetuned-en-to-ro/checkpoint-8000/tokenizer_config.json\n",
            "Special tokens file saved in opus-mt-en-ro-finetuned-en-to-ro/checkpoint-8000/special_tokens_map.json\n",
            "Deleting older checkpoint [opus-mt-en-ro-finetuned-en-to-ro/checkpoint-6500] due to args.save_total_limit\n",
            "Saving model checkpoint to opus-mt-en-ro-finetuned-en-to-ro/checkpoint-8500\n",
            "Configuration saved in opus-mt-en-ro-finetuned-en-to-ro/checkpoint-8500/config.json\n",
            "Model weights saved in opus-mt-en-ro-finetuned-en-to-ro/checkpoint-8500/pytorch_model.bin\n",
            "tokenizer config file saved in opus-mt-en-ro-finetuned-en-to-ro/checkpoint-8500/tokenizer_config.json\n",
            "Special tokens file saved in opus-mt-en-ro-finetuned-en-to-ro/checkpoint-8500/special_tokens_map.json\n",
            "Deleting older checkpoint [opus-mt-en-ro-finetuned-en-to-ro/checkpoint-7000] due to args.save_total_limit\n",
            "Saving model checkpoint to opus-mt-en-ro-finetuned-en-to-ro/checkpoint-9000\n",
            "Configuration saved in opus-mt-en-ro-finetuned-en-to-ro/checkpoint-9000/config.json\n",
            "Model weights saved in opus-mt-en-ro-finetuned-en-to-ro/checkpoint-9000/pytorch_model.bin\n",
            "tokenizer config file saved in opus-mt-en-ro-finetuned-en-to-ro/checkpoint-9000/tokenizer_config.json\n",
            "Special tokens file saved in opus-mt-en-ro-finetuned-en-to-ro/checkpoint-9000/special_tokens_map.json\n",
            "Deleting older checkpoint [opus-mt-en-ro-finetuned-en-to-ro/checkpoint-7500] due to args.save_total_limit\n",
            "Saving model checkpoint to opus-mt-en-ro-finetuned-en-to-ro/checkpoint-9500\n",
            "Configuration saved in opus-mt-en-ro-finetuned-en-to-ro/checkpoint-9500/config.json\n",
            "Model weights saved in opus-mt-en-ro-finetuned-en-to-ro/checkpoint-9500/pytorch_model.bin\n",
            "tokenizer config file saved in opus-mt-en-ro-finetuned-en-to-ro/checkpoint-9500/tokenizer_config.json\n",
            "Special tokens file saved in opus-mt-en-ro-finetuned-en-to-ro/checkpoint-9500/special_tokens_map.json\n",
            "Deleting older checkpoint [opus-mt-en-ro-finetuned-en-to-ro/checkpoint-8000] due to args.save_total_limit\n",
            "Saving model checkpoint to opus-mt-en-ro-finetuned-en-to-ro/checkpoint-10000\n",
            "Configuration saved in opus-mt-en-ro-finetuned-en-to-ro/checkpoint-10000/config.json\n",
            "Model weights saved in opus-mt-en-ro-finetuned-en-to-ro/checkpoint-10000/pytorch_model.bin\n",
            "tokenizer config file saved in opus-mt-en-ro-finetuned-en-to-ro/checkpoint-10000/tokenizer_config.json\n",
            "Special tokens file saved in opus-mt-en-ro-finetuned-en-to-ro/checkpoint-10000/special_tokens_map.json\n",
            "Deleting older checkpoint [opus-mt-en-ro-finetuned-en-to-ro/checkpoint-8500] due to args.save_total_limit\n",
            "Saving model checkpoint to opus-mt-en-ro-finetuned-en-to-ro/checkpoint-10500\n",
            "Configuration saved in opus-mt-en-ro-finetuned-en-to-ro/checkpoint-10500/config.json\n",
            "Model weights saved in opus-mt-en-ro-finetuned-en-to-ro/checkpoint-10500/pytorch_model.bin\n",
            "tokenizer config file saved in opus-mt-en-ro-finetuned-en-to-ro/checkpoint-10500/tokenizer_config.json\n",
            "Special tokens file saved in opus-mt-en-ro-finetuned-en-to-ro/checkpoint-10500/special_tokens_map.json\n",
            "Deleting older checkpoint [opus-mt-en-ro-finetuned-en-to-ro/checkpoint-9000] due to args.save_total_limit\n",
            "Saving model checkpoint to opus-mt-en-ro-finetuned-en-to-ro/checkpoint-11000\n",
            "Configuration saved in opus-mt-en-ro-finetuned-en-to-ro/checkpoint-11000/config.json\n",
            "Model weights saved in opus-mt-en-ro-finetuned-en-to-ro/checkpoint-11000/pytorch_model.bin\n",
            "tokenizer config file saved in opus-mt-en-ro-finetuned-en-to-ro/checkpoint-11000/tokenizer_config.json\n",
            "Special tokens file saved in opus-mt-en-ro-finetuned-en-to-ro/checkpoint-11000/special_tokens_map.json\n",
            "Deleting older checkpoint [opus-mt-en-ro-finetuned-en-to-ro/checkpoint-9500] due to args.save_total_limit\n",
            "Saving model checkpoint to opus-mt-en-ro-finetuned-en-to-ro/checkpoint-11500\n",
            "Configuration saved in opus-mt-en-ro-finetuned-en-to-ro/checkpoint-11500/config.json\n",
            "Model weights saved in opus-mt-en-ro-finetuned-en-to-ro/checkpoint-11500/pytorch_model.bin\n",
            "tokenizer config file saved in opus-mt-en-ro-finetuned-en-to-ro/checkpoint-11500/tokenizer_config.json\n",
            "Special tokens file saved in opus-mt-en-ro-finetuned-en-to-ro/checkpoint-11500/special_tokens_map.json\n",
            "Deleting older checkpoint [opus-mt-en-ro-finetuned-en-to-ro/checkpoint-10000] due to args.save_total_limit\n",
            "Saving model checkpoint to opus-mt-en-ro-finetuned-en-to-ro/checkpoint-12000\n",
            "Configuration saved in opus-mt-en-ro-finetuned-en-to-ro/checkpoint-12000/config.json\n",
            "Model weights saved in opus-mt-en-ro-finetuned-en-to-ro/checkpoint-12000/pytorch_model.bin\n",
            "tokenizer config file saved in opus-mt-en-ro-finetuned-en-to-ro/checkpoint-12000/tokenizer_config.json\n",
            "Special tokens file saved in opus-mt-en-ro-finetuned-en-to-ro/checkpoint-12000/special_tokens_map.json\n",
            "Deleting older checkpoint [opus-mt-en-ro-finetuned-en-to-ro/checkpoint-10500] due to args.save_total_limit\n",
            "Saving model checkpoint to opus-mt-en-ro-finetuned-en-to-ro/checkpoint-12500\n",
            "Configuration saved in opus-mt-en-ro-finetuned-en-to-ro/checkpoint-12500/config.json\n",
            "Model weights saved in opus-mt-en-ro-finetuned-en-to-ro/checkpoint-12500/pytorch_model.bin\n",
            "tokenizer config file saved in opus-mt-en-ro-finetuned-en-to-ro/checkpoint-12500/tokenizer_config.json\n",
            "Special tokens file saved in opus-mt-en-ro-finetuned-en-to-ro/checkpoint-12500/special_tokens_map.json\n",
            "Deleting older checkpoint [opus-mt-en-ro-finetuned-en-to-ro/checkpoint-11000] due to args.save_total_limit\n",
            "Saving model checkpoint to opus-mt-en-ro-finetuned-en-to-ro/checkpoint-13000\n",
            "Configuration saved in opus-mt-en-ro-finetuned-en-to-ro/checkpoint-13000/config.json\n",
            "Model weights saved in opus-mt-en-ro-finetuned-en-to-ro/checkpoint-13000/pytorch_model.bin\n",
            "tokenizer config file saved in opus-mt-en-ro-finetuned-en-to-ro/checkpoint-13000/tokenizer_config.json\n",
            "Special tokens file saved in opus-mt-en-ro-finetuned-en-to-ro/checkpoint-13000/special_tokens_map.json\n",
            "Deleting older checkpoint [opus-mt-en-ro-finetuned-en-to-ro/checkpoint-11500] due to args.save_total_limit\n",
            "Saving model checkpoint to opus-mt-en-ro-finetuned-en-to-ro/checkpoint-13500\n",
            "Configuration saved in opus-mt-en-ro-finetuned-en-to-ro/checkpoint-13500/config.json\n",
            "Model weights saved in opus-mt-en-ro-finetuned-en-to-ro/checkpoint-13500/pytorch_model.bin\n",
            "tokenizer config file saved in opus-mt-en-ro-finetuned-en-to-ro/checkpoint-13500/tokenizer_config.json\n",
            "Special tokens file saved in opus-mt-en-ro-finetuned-en-to-ro/checkpoint-13500/special_tokens_map.json\n",
            "Deleting older checkpoint [opus-mt-en-ro-finetuned-en-to-ro/checkpoint-12000] due to args.save_total_limit\n",
            "Saving model checkpoint to opus-mt-en-ro-finetuned-en-to-ro/checkpoint-14000\n",
            "Configuration saved in opus-mt-en-ro-finetuned-en-to-ro/checkpoint-14000/config.json\n",
            "Model weights saved in opus-mt-en-ro-finetuned-en-to-ro/checkpoint-14000/pytorch_model.bin\n",
            "tokenizer config file saved in opus-mt-en-ro-finetuned-en-to-ro/checkpoint-14000/tokenizer_config.json\n",
            "Special tokens file saved in opus-mt-en-ro-finetuned-en-to-ro/checkpoint-14000/special_tokens_map.json\n",
            "Deleting older checkpoint [opus-mt-en-ro-finetuned-en-to-ro/checkpoint-12500] due to args.save_total_limit\n",
            "Saving model checkpoint to opus-mt-en-ro-finetuned-en-to-ro/checkpoint-14500\n",
            "Configuration saved in opus-mt-en-ro-finetuned-en-to-ro/checkpoint-14500/config.json\n",
            "Model weights saved in opus-mt-en-ro-finetuned-en-to-ro/checkpoint-14500/pytorch_model.bin\n",
            "tokenizer config file saved in opus-mt-en-ro-finetuned-en-to-ro/checkpoint-14500/tokenizer_config.json\n",
            "Special tokens file saved in opus-mt-en-ro-finetuned-en-to-ro/checkpoint-14500/special_tokens_map.json\n",
            "Deleting older checkpoint [opus-mt-en-ro-finetuned-en-to-ro/checkpoint-13000] due to args.save_total_limit\n",
            "Saving model checkpoint to opus-mt-en-ro-finetuned-en-to-ro/checkpoint-15000\n",
            "Configuration saved in opus-mt-en-ro-finetuned-en-to-ro/checkpoint-15000/config.json\n",
            "Model weights saved in opus-mt-en-ro-finetuned-en-to-ro/checkpoint-15000/pytorch_model.bin\n",
            "tokenizer config file saved in opus-mt-en-ro-finetuned-en-to-ro/checkpoint-15000/tokenizer_config.json\n",
            "Special tokens file saved in opus-mt-en-ro-finetuned-en-to-ro/checkpoint-15000/special_tokens_map.json\n",
            "Deleting older checkpoint [opus-mt-en-ro-finetuned-en-to-ro/checkpoint-13500] due to args.save_total_limit\n",
            "Saving model checkpoint to opus-mt-en-ro-finetuned-en-to-ro/checkpoint-15500\n",
            "Configuration saved in opus-mt-en-ro-finetuned-en-to-ro/checkpoint-15500/config.json\n",
            "Model weights saved in opus-mt-en-ro-finetuned-en-to-ro/checkpoint-15500/pytorch_model.bin\n",
            "tokenizer config file saved in opus-mt-en-ro-finetuned-en-to-ro/checkpoint-15500/tokenizer_config.json\n",
            "Special tokens file saved in opus-mt-en-ro-finetuned-en-to-ro/checkpoint-15500/special_tokens_map.json\n",
            "Deleting older checkpoint [opus-mt-en-ro-finetuned-en-to-ro/checkpoint-14000] due to args.save_total_limit\n",
            "Saving model checkpoint to opus-mt-en-ro-finetuned-en-to-ro/checkpoint-16000\n",
            "Configuration saved in opus-mt-en-ro-finetuned-en-to-ro/checkpoint-16000/config.json\n",
            "Model weights saved in opus-mt-en-ro-finetuned-en-to-ro/checkpoint-16000/pytorch_model.bin\n",
            "tokenizer config file saved in opus-mt-en-ro-finetuned-en-to-ro/checkpoint-16000/tokenizer_config.json\n",
            "Special tokens file saved in opus-mt-en-ro-finetuned-en-to-ro/checkpoint-16000/special_tokens_map.json\n",
            "Deleting older checkpoint [opus-mt-en-ro-finetuned-en-to-ro/checkpoint-14500] due to args.save_total_limit\n",
            "Saving model checkpoint to opus-mt-en-ro-finetuned-en-to-ro/checkpoint-16500\n",
            "Configuration saved in opus-mt-en-ro-finetuned-en-to-ro/checkpoint-16500/config.json\n",
            "Model weights saved in opus-mt-en-ro-finetuned-en-to-ro/checkpoint-16500/pytorch_model.bin\n",
            "tokenizer config file saved in opus-mt-en-ro-finetuned-en-to-ro/checkpoint-16500/tokenizer_config.json\n",
            "Special tokens file saved in opus-mt-en-ro-finetuned-en-to-ro/checkpoint-16500/special_tokens_map.json\n",
            "Deleting older checkpoint [opus-mt-en-ro-finetuned-en-to-ro/checkpoint-15000] due to args.save_total_limit\n",
            "Saving model checkpoint to opus-mt-en-ro-finetuned-en-to-ro/checkpoint-17000\n",
            "Configuration saved in opus-mt-en-ro-finetuned-en-to-ro/checkpoint-17000/config.json\n",
            "Model weights saved in opus-mt-en-ro-finetuned-en-to-ro/checkpoint-17000/pytorch_model.bin\n",
            "tokenizer config file saved in opus-mt-en-ro-finetuned-en-to-ro/checkpoint-17000/tokenizer_config.json\n",
            "Special tokens file saved in opus-mt-en-ro-finetuned-en-to-ro/checkpoint-17000/special_tokens_map.json\n",
            "Deleting older checkpoint [opus-mt-en-ro-finetuned-en-to-ro/checkpoint-15500] due to args.save_total_limit\n",
            "Saving model checkpoint to opus-mt-en-ro-finetuned-en-to-ro/checkpoint-17500\n",
            "Configuration saved in opus-mt-en-ro-finetuned-en-to-ro/checkpoint-17500/config.json\n",
            "Model weights saved in opus-mt-en-ro-finetuned-en-to-ro/checkpoint-17500/pytorch_model.bin\n",
            "tokenizer config file saved in opus-mt-en-ro-finetuned-en-to-ro/checkpoint-17500/tokenizer_config.json\n",
            "Special tokens file saved in opus-mt-en-ro-finetuned-en-to-ro/checkpoint-17500/special_tokens_map.json\n",
            "Deleting older checkpoint [opus-mt-en-ro-finetuned-en-to-ro/checkpoint-16000] due to args.save_total_limit\n",
            "Saving model checkpoint to opus-mt-en-ro-finetuned-en-to-ro/checkpoint-18000\n",
            "Configuration saved in opus-mt-en-ro-finetuned-en-to-ro/checkpoint-18000/config.json\n",
            "Model weights saved in opus-mt-en-ro-finetuned-en-to-ro/checkpoint-18000/pytorch_model.bin\n",
            "tokenizer config file saved in opus-mt-en-ro-finetuned-en-to-ro/checkpoint-18000/tokenizer_config.json\n",
            "Special tokens file saved in opus-mt-en-ro-finetuned-en-to-ro/checkpoint-18000/special_tokens_map.json\n",
            "Deleting older checkpoint [opus-mt-en-ro-finetuned-en-to-ro/checkpoint-16500] due to args.save_total_limit\n",
            "Saving model checkpoint to opus-mt-en-ro-finetuned-en-to-ro/checkpoint-18500\n",
            "Configuration saved in opus-mt-en-ro-finetuned-en-to-ro/checkpoint-18500/config.json\n",
            "Model weights saved in opus-mt-en-ro-finetuned-en-to-ro/checkpoint-18500/pytorch_model.bin\n",
            "tokenizer config file saved in opus-mt-en-ro-finetuned-en-to-ro/checkpoint-18500/tokenizer_config.json\n",
            "Special tokens file saved in opus-mt-en-ro-finetuned-en-to-ro/checkpoint-18500/special_tokens_map.json\n",
            "Deleting older checkpoint [opus-mt-en-ro-finetuned-en-to-ro/checkpoint-17000] due to args.save_total_limit\n",
            "Saving model checkpoint to opus-mt-en-ro-finetuned-en-to-ro/checkpoint-19000\n",
            "Configuration saved in opus-mt-en-ro-finetuned-en-to-ro/checkpoint-19000/config.json\n",
            "Model weights saved in opus-mt-en-ro-finetuned-en-to-ro/checkpoint-19000/pytorch_model.bin\n",
            "tokenizer config file saved in opus-mt-en-ro-finetuned-en-to-ro/checkpoint-19000/tokenizer_config.json\n",
            "Special tokens file saved in opus-mt-en-ro-finetuned-en-to-ro/checkpoint-19000/special_tokens_map.json\n",
            "Deleting older checkpoint [opus-mt-en-ro-finetuned-en-to-ro/checkpoint-17500] due to args.save_total_limit\n",
            "Saving model checkpoint to opus-mt-en-ro-finetuned-en-to-ro/checkpoint-19500\n",
            "Configuration saved in opus-mt-en-ro-finetuned-en-to-ro/checkpoint-19500/config.json\n",
            "Model weights saved in opus-mt-en-ro-finetuned-en-to-ro/checkpoint-19500/pytorch_model.bin\n",
            "tokenizer config file saved in opus-mt-en-ro-finetuned-en-to-ro/checkpoint-19500/tokenizer_config.json\n",
            "Special tokens file saved in opus-mt-en-ro-finetuned-en-to-ro/checkpoint-19500/special_tokens_map.json\n",
            "Deleting older checkpoint [opus-mt-en-ro-finetuned-en-to-ro/checkpoint-18000] due to args.save_total_limit\n",
            "Saving model checkpoint to opus-mt-en-ro-finetuned-en-to-ro/checkpoint-20000\n",
            "Configuration saved in opus-mt-en-ro-finetuned-en-to-ro/checkpoint-20000/config.json\n",
            "Model weights saved in opus-mt-en-ro-finetuned-en-to-ro/checkpoint-20000/pytorch_model.bin\n",
            "tokenizer config file saved in opus-mt-en-ro-finetuned-en-to-ro/checkpoint-20000/tokenizer_config.json\n",
            "Special tokens file saved in opus-mt-en-ro-finetuned-en-to-ro/checkpoint-20000/special_tokens_map.json\n",
            "Deleting older checkpoint [opus-mt-en-ro-finetuned-en-to-ro/checkpoint-18500] due to args.save_total_limit\n",
            "Saving model checkpoint to opus-mt-en-ro-finetuned-en-to-ro/checkpoint-20500\n",
            "Configuration saved in opus-mt-en-ro-finetuned-en-to-ro/checkpoint-20500/config.json\n",
            "Model weights saved in opus-mt-en-ro-finetuned-en-to-ro/checkpoint-20500/pytorch_model.bin\n",
            "tokenizer config file saved in opus-mt-en-ro-finetuned-en-to-ro/checkpoint-20500/tokenizer_config.json\n",
            "Special tokens file saved in opus-mt-en-ro-finetuned-en-to-ro/checkpoint-20500/special_tokens_map.json\n",
            "Deleting older checkpoint [opus-mt-en-ro-finetuned-en-to-ro/checkpoint-19000] due to args.save_total_limit\n",
            "Saving model checkpoint to opus-mt-en-ro-finetuned-en-to-ro/checkpoint-21000\n",
            "Configuration saved in opus-mt-en-ro-finetuned-en-to-ro/checkpoint-21000/config.json\n",
            "Model weights saved in opus-mt-en-ro-finetuned-en-to-ro/checkpoint-21000/pytorch_model.bin\n",
            "tokenizer config file saved in opus-mt-en-ro-finetuned-en-to-ro/checkpoint-21000/tokenizer_config.json\n",
            "Special tokens file saved in opus-mt-en-ro-finetuned-en-to-ro/checkpoint-21000/special_tokens_map.json\n",
            "Deleting older checkpoint [opus-mt-en-ro-finetuned-en-to-ro/checkpoint-19500] due to args.save_total_limit\n"
          ]
        }
      ]
    },
    {
      "cell_type": "code",
      "metadata": {
        "execution": {
          "iopub.status.busy": "2021-09-29T13:00:10.592481Z",
          "iopub.execute_input": "2021-09-29T13:00:10.592738Z",
          "iopub.status.idle": "2021-09-29T13:00:10.610861Z",
          "shell.execute_reply.started": "2021-09-29T13:00:10.592711Z",
          "shell.execute_reply": "2021-09-29T13:00:10.609931Z"
        },
        "trusted": true,
        "colab": {
          "base_uri": "https://localhost:8080/"
        },
        "id": "Y-SSyPwox5U1",
        "outputId": "c06f1ef4-8a5e-49a7-ef48-3c4997d3623f"
      },
      "source": [
        "import os\n",
        "for dirname, _, filenames in os.walk('opus-mt-en-ro-finetuned-en-to-ro'):\n",
        "    for filename in filenames:\n",
        "        print(os.path.join(dirname, filename))"
      ],
      "execution_count": null,
      "outputs": [
        {
          "output_type": "stream",
          "name": "stdout",
          "text": [
            "opus-mt-en-ro-finetuned-en-to-ro/checkpoint-37000/vocab.json\n",
            "opus-mt-en-ro-finetuned-en-to-ro/checkpoint-37000/rng_state.pth\n",
            "opus-mt-en-ro-finetuned-en-to-ro/checkpoint-37000/config.json\n",
            "opus-mt-en-ro-finetuned-en-to-ro/checkpoint-37000/tokenizer_config.json\n",
            "opus-mt-en-ro-finetuned-en-to-ro/checkpoint-37000/trainer_state.json\n",
            "opus-mt-en-ro-finetuned-en-to-ro/checkpoint-37000/scheduler.pt\n",
            "opus-mt-en-ro-finetuned-en-to-ro/checkpoint-37000/special_tokens_map.json\n",
            "opus-mt-en-ro-finetuned-en-to-ro/checkpoint-37000/pytorch_model.bin\n",
            "opus-mt-en-ro-finetuned-en-to-ro/checkpoint-37000/target.spm\n",
            "opus-mt-en-ro-finetuned-en-to-ro/checkpoint-37000/source.spm\n",
            "opus-mt-en-ro-finetuned-en-to-ro/checkpoint-37000/training_args.bin\n",
            "opus-mt-en-ro-finetuned-en-to-ro/checkpoint-37000/optimizer.pt\n",
            "opus-mt-en-ro-finetuned-en-to-ro/runs/Sep30_03-49-58_a84265f68a25/events.out.tfevents.1632973810.a84265f68a25.217.0\n",
            "opus-mt-en-ro-finetuned-en-to-ro/runs/Sep30_03-49-58_a84265f68a25/1632973810.56194/events.out.tfevents.1632973810.a84265f68a25.217.1\n",
            "opus-mt-en-ro-finetuned-en-to-ro/checkpoint-37500/vocab.json\n",
            "opus-mt-en-ro-finetuned-en-to-ro/checkpoint-37500/rng_state.pth\n",
            "opus-mt-en-ro-finetuned-en-to-ro/checkpoint-37500/config.json\n",
            "opus-mt-en-ro-finetuned-en-to-ro/checkpoint-37500/tokenizer_config.json\n",
            "opus-mt-en-ro-finetuned-en-to-ro/checkpoint-37500/trainer_state.json\n",
            "opus-mt-en-ro-finetuned-en-to-ro/checkpoint-37500/scheduler.pt\n",
            "opus-mt-en-ro-finetuned-en-to-ro/checkpoint-37500/special_tokens_map.json\n",
            "opus-mt-en-ro-finetuned-en-to-ro/checkpoint-37500/pytorch_model.bin\n",
            "opus-mt-en-ro-finetuned-en-to-ro/checkpoint-37500/target.spm\n",
            "opus-mt-en-ro-finetuned-en-to-ro/checkpoint-37500/source.spm\n",
            "opus-mt-en-ro-finetuned-en-to-ro/checkpoint-37500/training_args.bin\n",
            "opus-mt-en-ro-finetuned-en-to-ro/checkpoint-37500/optimizer.pt\n",
            "opus-mt-en-ro-finetuned-en-to-ro/checkpoint-38000/vocab.json\n",
            "opus-mt-en-ro-finetuned-en-to-ro/checkpoint-38000/rng_state.pth\n",
            "opus-mt-en-ro-finetuned-en-to-ro/checkpoint-38000/config.json\n",
            "opus-mt-en-ro-finetuned-en-to-ro/checkpoint-38000/tokenizer_config.json\n",
            "opus-mt-en-ro-finetuned-en-to-ro/checkpoint-38000/trainer_state.json\n",
            "opus-mt-en-ro-finetuned-en-to-ro/checkpoint-38000/scheduler.pt\n",
            "opus-mt-en-ro-finetuned-en-to-ro/checkpoint-38000/special_tokens_map.json\n",
            "opus-mt-en-ro-finetuned-en-to-ro/checkpoint-38000/pytorch_model.bin\n",
            "opus-mt-en-ro-finetuned-en-to-ro/checkpoint-38000/target.spm\n",
            "opus-mt-en-ro-finetuned-en-to-ro/checkpoint-38000/source.spm\n",
            "opus-mt-en-ro-finetuned-en-to-ro/checkpoint-38000/training_args.bin\n",
            "opus-mt-en-ro-finetuned-en-to-ro/checkpoint-38000/optimizer.pt\n"
          ]
        }
      ]
    },
    {
      "cell_type": "code",
      "metadata": {
        "execution": {
          "iopub.status.busy": "2021-09-29T13:05:05.324272Z",
          "iopub.execute_input": "2021-09-29T13:05:05.324871Z",
          "iopub.status.idle": "2021-09-29T13:05:05.504556Z",
          "shell.execute_reply.started": "2021-09-29T13:05:05.324816Z",
          "shell.execute_reply": "2021-09-29T13:05:05.503605Z"
        },
        "trusted": true,
        "colab": {
          "base_uri": "https://localhost:8080/"
        },
        "id": "kByQ_vxTx5U2",
        "outputId": "c2fef526-afee-4309-9bb5-aef945b31b56"
      },
      "source": [
        "from transformers import MarianMTModel, MarianTokenizer\n",
        "src_text = ['My name is Sarah and I live in London']\n",
        "\n",
        "model_name = 'opus-mt-en-ro-finetuned-en-to-ro/checkpoint-38000'\n",
        "tokenizer = MarianTokenizer.from_pretrained(model_name)\n",
        "print(tokenizer.supported_language_codes)\n"
      ],
      "execution_count": null,
      "outputs": [
        {
          "output_type": "stream",
          "name": "stderr",
          "text": [
            "Didn't find file opus-mt-en-ro-finetuned-en-to-ro/checkpoint-38000/added_tokens.json. We won't load it.\n",
            "Didn't find file opus-mt-en-ro-finetuned-en-to-ro/checkpoint-38000/tokenizer.json. We won't load it.\n",
            "loading file opus-mt-en-ro-finetuned-en-to-ro/checkpoint-38000/source.spm\n",
            "loading file opus-mt-en-ro-finetuned-en-to-ro/checkpoint-38000/target.spm\n",
            "loading file opus-mt-en-ro-finetuned-en-to-ro/checkpoint-38000/vocab.json\n",
            "loading file opus-mt-en-ro-finetuned-en-to-ro/checkpoint-38000/tokenizer_config.json\n",
            "loading file None\n",
            "loading file opus-mt-en-ro-finetuned-en-to-ro/checkpoint-38000/special_tokens_map.json\n",
            "loading file None\n"
          ]
        },
        {
          "output_type": "stream",
          "name": "stdout",
          "text": [
            "[]\n"
          ]
        }
      ]
    },
    {
      "cell_type": "code",
      "metadata": {
        "execution": {
          "iopub.status.busy": "2021-09-29T13:05:11.158515Z",
          "iopub.execute_input": "2021-09-29T13:05:11.158790Z",
          "iopub.status.idle": "2021-09-29T13:05:18.690597Z",
          "shell.execute_reply.started": "2021-09-29T13:05:11.158763Z",
          "shell.execute_reply": "2021-09-29T13:05:18.689745Z"
        },
        "trusted": true,
        "colab": {
          "base_uri": "https://localhost:8080/"
        },
        "id": "4h_jIFZgx5U2",
        "outputId": "77d69535-6d1e-486b-df14-382718414698"
      },
      "source": [
        "model = MarianMTModel.from_pretrained(model_name)\n",
        "translated = model.generate(**tokenizer(src_text, return_tensors=\"pt\", padding=True))\n",
        "[tokenizer.decode(t, skip_special_tokens=True) for t in translated]"
      ],
      "execution_count": null,
      "outputs": [
        {
          "output_type": "stream",
          "name": "stderr",
          "text": [
            "loading configuration file opus-mt-en-ro-finetuned-en-to-ro/checkpoint-38000/config.json\n",
            "Model config MarianConfig {\n",
            "  \"_name_or_path\": \"Helsinki-NLP/opus-mt-en-ro\",\n",
            "  \"_num_labels\": 3,\n",
            "  \"activation_dropout\": 0.0,\n",
            "  \"activation_function\": \"swish\",\n",
            "  \"add_bias_logits\": false,\n",
            "  \"add_final_layer_norm\": false,\n",
            "  \"architectures\": [\n",
            "    \"MarianMTModel\"\n",
            "  ],\n",
            "  \"attention_dropout\": 0.0,\n",
            "  \"bad_words_ids\": [\n",
            "    [\n",
            "      59542\n",
            "    ]\n",
            "  ],\n",
            "  \"bos_token_id\": 0,\n",
            "  \"classif_dropout\": 0.0,\n",
            "  \"classifier_dropout\": 0.0,\n",
            "  \"d_model\": 512,\n",
            "  \"decoder_attention_heads\": 8,\n",
            "  \"decoder_ffn_dim\": 2048,\n",
            "  \"decoder_layerdrop\": 0.0,\n",
            "  \"decoder_layers\": 6,\n",
            "  \"decoder_start_token_id\": 59542,\n",
            "  \"dropout\": 0.1,\n",
            "  \"encoder_attention_heads\": 8,\n",
            "  \"encoder_ffn_dim\": 2048,\n",
            "  \"encoder_layerdrop\": 0.0,\n",
            "  \"encoder_layers\": 6,\n",
            "  \"eos_token_id\": 0,\n",
            "  \"forced_eos_token_id\": 0,\n",
            "  \"id2label\": {\n",
            "    \"0\": \"LABEL_0\",\n",
            "    \"1\": \"LABEL_1\",\n",
            "    \"2\": \"LABEL_2\"\n",
            "  },\n",
            "  \"init_std\": 0.02,\n",
            "  \"is_encoder_decoder\": true,\n",
            "  \"label2id\": {\n",
            "    \"LABEL_0\": 0,\n",
            "    \"LABEL_1\": 1,\n",
            "    \"LABEL_2\": 2\n",
            "  },\n",
            "  \"max_length\": 512,\n",
            "  \"max_position_embeddings\": 512,\n",
            "  \"model_type\": \"marian\",\n",
            "  \"normalize_before\": false,\n",
            "  \"normalize_embedding\": false,\n",
            "  \"num_beams\": 4,\n",
            "  \"num_hidden_layers\": 6,\n",
            "  \"pad_token_id\": 59542,\n",
            "  \"scale_embedding\": true,\n",
            "  \"static_position_embeddings\": true,\n",
            "  \"torch_dtype\": \"float32\",\n",
            "  \"transformers_version\": \"4.11.1\",\n",
            "  \"use_cache\": true,\n",
            "  \"vocab_size\": 59543\n",
            "}\n",
            "\n",
            "loading weights file opus-mt-en-ro-finetuned-en-to-ro/checkpoint-38000/pytorch_model.bin\n",
            "All model checkpoint weights were used when initializing MarianMTModel.\n",
            "\n",
            "All the weights of MarianMTModel were initialized from the model checkpoint at opus-mt-en-ro-finetuned-en-to-ro/checkpoint-38000.\n",
            "If your task is similar to the task the model of the checkpoint was trained on, you can already use MarianMTModel for predictions without further training.\n"
          ]
        },
        {
          "output_type": "execute_result",
          "data": {
            "text/plain": [
              "['Numele meu este Sarah şi locuiesc la Londra']"
            ]
          },
          "metadata": {},
          "execution_count": 31
        }
      ]
    }
  ]
}